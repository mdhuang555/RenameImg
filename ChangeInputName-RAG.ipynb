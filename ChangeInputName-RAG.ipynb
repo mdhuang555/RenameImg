{
 "cells": [
  {
   "cell_type": "markdown",
   "id": "b3edd2c4-06fb-4304-b98c-02880e6be3cf",
   "metadata": {},
   "source": [
    "# 整合"
   ]
  },
  {
   "cell_type": "markdown",
   "id": "e0e6144a-2a62-4483-b5fe-3ae247b50c13",
   "metadata": {},
   "source": [
    "## 引入"
   ]
  },
  {
   "cell_type": "code",
   "execution_count": 1,
   "id": "2b1cd5c2-ea97-4dd3-a844-2b063e54711f",
   "metadata": {},
   "outputs": [],
   "source": [
    "import os\n",
    "import io\n",
    "import base64\n",
    "import shutil  # 用于复制文件\n",
    "import math\n",
    "import sys\n",
    "import re\n",
    "import requests\n",
    "import uuid\n",
    "import faiss\n",
    "import json\n",
    "\n",
    "\n",
    "from io import BytesIO\n",
    "from PIL import Image\n",
    "from langchain.vectorstores import FAISS\n",
    "from langchain_nvidia_ai_endpoints import ChatNVIDIA\n",
    "from langchain_core.prompts import ChatPromptTemplate\n",
    "from langchain_core.output_parsers import StrOutputParser\n",
    "from langchain_nvidia_ai_endpoints import NVIDIAEmbeddings\n",
    "from langchain.text_splitter import CharacterTextSplitter\n",
    "from langchain_core.runnables import RunnablePassthrough\n",
    "from langchain.text_splitter import RecursiveCharacterTextSplitter\n"
   ]
  },
  {
   "cell_type": "markdown",
   "id": "c5282639-aa6b-4074-8a92-29ebf4aa6c4d",
   "metadata": {},
   "source": [
    "## 文件路径 后面会弃用"
   ]
  },
  {
   "cell_type": "code",
   "execution_count": 2,
   "id": "e2b7cae6-53f1-4738-8dd0-bd926529e577",
   "metadata": {},
   "outputs": [],
   "source": [
    "#input_path = \"./img_in/IMG20240809142209_new_new.jpg\"\n",
    "#output_path= \"./img_cache/IMG20240809142209_new_new.jpg\"\n",
    "#path_in = \"./img_in\"\n",
    "#path_cache = \"./img_cache\"\n",
    "#path_out = \"./img_out\"\n",
    "#https://developer.nvidia.com/"
   ]
  },
  {
   "cell_type": "markdown",
   "id": "52d249de-335e-41b7-80af-00b55bc6c7fe",
   "metadata": {},
   "source": [
    "## API KEY"
   ]
  },
  {
   "cell_type": "code",
   "execution_count": 3,
   "id": "2a8231fb-b35a-418b-be8d-897fb7b89d94",
   "metadata": {},
   "outputs": [],
   "source": [
    "os.environ[\"NVIDIA_API_KEY\"] = \"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\""
   ]
  },
  {
   "cell_type": "markdown",
   "id": "1fd0bf18-a2b5-4eb4-9737-88391dc355d9",
   "metadata": {},
   "source": [
    "## 函数"
   ]
  },
  {
   "cell_type": "code",
   "execution_count": 4,
   "id": "0d539c04-3486-4f0e-87fd-c9cc9793fc8b",
   "metadata": {},
   "outputs": [],
   "source": [
    "############################################################\n",
    "# 图片预压缩                                               #\n",
    "############################################################\n",
    "def JPEGSaveWithTargetSize(im, filename, target):\n",
    "   \"\"\"Save the image as JPEG with the given name at best quality that makes less than \"target\" bytes\"\"\"\n",
    "   # Min and Max quality\n",
    "   Qmin, Qmax = 25, 96\n",
    "   # Highest acceptable quality found\n",
    "   Qacc = -1\n",
    "   while Qmin <= Qmax:\n",
    "      m = math.floor((Qmin + Qmax) / 2)\n",
    "\n",
    "      # Encode into memory and get size\n",
    "      buffer = io.BytesIO()\n",
    "      im.save(buffer, format=\"JPEG\", quality=m)\n",
    "      s = buffer.getbuffer().nbytes\n",
    "\n",
    "      if s <= target:\n",
    "         Qacc = m\n",
    "         Qmin = m + 1\n",
    "      elif s > target:\n",
    "         Qmax = m - 1\n",
    "\n",
    "   # Write to disk at the defined quality\n",
    "   if Qacc > -1:\n",
    "      im.save(filename, format=\"JPEG\", quality=Qacc)\n",
    "      #im.show()\n",
    "   else:\n",
    "      print(\"ERROR: No acceptble quality factor found\", file=sys.stderr)\n",
    "       \n",
    "############################################################\n",
    "# 图片载入压缩并输出到特定文件夹                            #\n",
    "############################################################\n",
    "def UploadImg(input_path,output_path):\n",
    "    #os.makedirs(path_out, exist_ok=True)\n",
    "    \n",
    "    im = Image.open(input_path)  #原始图片来自本地磁盘\n",
    "    rgb_im = im.convert('RGB')\n",
    "    #print (storage)\n",
    "\n",
    "    # Input Image Limitation\n",
    "    storage=10000000  #目标图片存储空间\n",
    "    max_width=1000   #目标图片宽度\n",
    "    min_width=1000\n",
    "    max_height=1000  #目标图片高度\n",
    "    min_width=1000\n",
    "    \n",
    "    new_width=max_width\n",
    "    new_height=max_height\n",
    "    if rgb_im.width/rgb_im.height>new_width/new_height:\n",
    "        new_height=int(new_height*rgb_im.height/rgb_im.width)\n",
    "    else:\n",
    "        new_width=(new_width*rgb_im.width/rgb_im.height)\n",
    "    \n",
    "    resized_im = rgb_im.resize((int(new_width), int(new_height)), Image.Resampling.LANCZOS)\n",
    "    \n",
    "    # Save at best quality under 100,000 bytes\n",
    "    JPEGSaveWithTargetSize(resized_im, output_path, storage)\n",
    "\n",
    "############################################################\n",
    "# 文本清洗                                                 #\n",
    "############################################################\n",
    "def CleanText(text):\n",
    "    # 分割为所有行，过滤空行并去除首尾空格\n",
    "    lines = [line.strip() for line in text.split('\\n') if line.strip()]\n",
    "    # 提取最后一行（若无则返回空）\n",
    "    last_line = lines[-1] if lines else \"\"\n",
    "    # 删除特殊字符和所有空格\n",
    "    last_paragraph = re.sub(r'[\\\\/:*?\"<>]', '', last_line)\n",
    "    return last_paragraph"
   ]
  },
  {
   "cell_type": "code",
   "execution_count": 5,
   "id": "36fc2274-9301-4fcc-b799-ff0fa5bf0d2e",
   "metadata": {},
   "outputs": [],
   "source": [
    "############################################################\n",
    "# 旧文件夹清洗                                             #\n",
    "############################################################\n",
    "import os\n",
    "import time\n",
    "import shutil\n",
    "\n",
    "def is_folder_old(folder_path, hours_threshold):\n",
    "    \"\"\"检查文件夹内所有文件是否超过指定小时未修改\"\"\"\n",
    "    current_time = time.time()\n",
    "    cutoff_time = current_time - hours_threshold * 3600\n",
    "\n",
    "    for root, dirs, files in os.walk(folder_path):\n",
    "        for file in files:\n",
    "            file_path = os.path.join(root, file)\n",
    "            # 获取文件最后修改时间 [[4]]\n",
    "            last_modified = os.path.getmtime(file_path)\n",
    "            if last_modified > cutoff_time:\n",
    "                return False  # 存在新文件，无需删除\n",
    "    return True  # 所有文件都超过阈值\n",
    "\n",
    "def clean_old_folders(base_dir, hours=3):\n",
    "    \"\"\"递归清理超过指定时间未更新的文件夹\"\"\"\n",
    "    folders_to_delete = []\n",
    "    \n",
    "    # 使用os.walk自底向上遍历 [[6,12]]\n",
    "    for root, dirs, files in os.walk(base_dir, topdown=False):\n",
    "        for dir_name in dirs:\n",
    "            full_path = os.path.join(root, dir_name)\n",
    "            if is_folder_old(full_path, hours):\n",
    "                folders_to_delete.append(full_path)\n",
    "    \n",
    "    # 逆序删除确保先处理子目录 [[11]]\n",
    "    for folder in reversed(folders_to_delete):\n",
    "        try:\n",
    "            shutil.rmtree(folder)  # 删除非空文件夹 [[11]]\n",
    "            print(f\"已删除过期文件夹：{folder}\")\n",
    "        except Exception as e:\n",
    "            print(f\"删除失败 {folder}: {str(e)}\")\n",
    "\n"
   ]
  },
  {
   "cell_type": "markdown",
   "id": "caac442c-31e8-4797-adad-7c0c5b98537e",
   "metadata": {},
   "source": [
    "# RAG构建"
   ]
  },
  {
   "cell_type": "code",
   "execution_count": 6,
   "id": "ed5dfe9c-6e0b-40e5-80e9-2a869d031503",
   "metadata": {},
   "outputs": [],
   "source": [
    "# ############################################################\n",
    "# # 文本处理                                                 #\n",
    "# ############################################################\n",
    "\n",
    "# def RAG_now(path_cache):\n",
    "#     os.makedirs(path_cache +\"/RAG/\", exist_ok=True)\n",
    "#     ps = os.listdir(path_cache +\"/RAG/\")\n",
    "#     data = []\n",
    "#     sources = []\n",
    "#     for p in ps:\n",
    "#         if p.endswith('.txt'):\n",
    "#             path2file = path_cache +\"/RAG/\"+p\n",
    "#             with open(path2file,encoding=\"utf-8\") as f:\n",
    "#                 lines=f.readlines()\n",
    "#                 for line in lines:\n",
    "#                     if len(line)>=1:\n",
    "#                         data.append(line)\n",
    "#                         sources.append(path2file)\n",
    "#        # print(path2file)                    \n",
    "#     documents=[d for d in data if d != '\\n']\n",
    "#     print('List length:',len(data))\n",
    "#     print('List contents:',data)\n",
    "#     len(data), len(documents), data[0]\n",
    "#     embedder = NVIDIAEmbeddings(model=\"NV-Embed-QA\")\n",
    "#     # 只需要执行一次，后面可以重读已经保存的向量存储\n",
    "#     text_splitter = CharacterTextSplitter(chunk_size=200, separator=\" \")\n",
    "#     docs = []\n",
    "#     metadatas = []\n",
    "    \n",
    "#     for i, d in enumerate(documents):\n",
    "#         splits = text_splitter.split_text(d)\n",
    "#         #print(len(splits))\n",
    "#         docs.extend(splits)\n",
    "#         metadatas.extend([{\"source\": sources[i]}] * len(splits))\n",
    "    \n",
    "#     store = FAISS.from_texts(docs, embedder , metadatas=metadatas)\n",
    "#     store.save_local('./nv_embedding')\n",
    "#     #print(store.as_retriever())\n",
    "#     return store"
   ]
  },
  {
   "cell_type": "code",
   "execution_count": 7,
   "id": "ba580dba-647c-424b-ac8b-c5b5457c7dad",
   "metadata": {},
   "outputs": [],
   "source": [
    "#llm = ChatNVIDIA(model=\"meta/llama3-70b-instruct\")"
   ]
  },
  {
   "cell_type": "code",
   "execution_count": 8,
   "id": "4017a290-b107-45cc-9bdc-cc6bfa1aa326",
   "metadata": {},
   "outputs": [],
   "source": [
    "def CreateVectorData(path_cache):\n",
    "    ps = os.listdir(path_cache +\"/RAG/\")\n",
    "    for p in ps:\n",
    "        if p.endswith('.txt'):\n",
    "            text_path = path_cache +\"/RAG/\"+p\n",
    "            if os.path.exists(text_path):\n",
    "                with open(text_path,encoding=\"utf-8\") as f:\n",
    "                    data = f.read()\n",
    "    if data == None:\n",
    "        return None\n",
    "    embedder = NVIDIAEmbeddings(model=\"NV-Embed-QA\")\n",
    "    text_splitter = RecursiveCharacterTextSplitter(\n",
    "        chunk_size=100,\n",
    "        chunk_overlap=1,\n",
    "        separators=[\"\\n\\n\", \"\\n\", \".\", \";\", \",\", \"。\",\"；\",\"，\",\" \"],\n",
    "    )\n",
    "    splits = text_splitter.split_text(data)\n",
    "    store = FAISS.from_texts(splits, embedder)\n",
    "    store.save_local('./nv_embedding')\n",
    "    return store"
   ]
  },
  {
   "cell_type": "markdown",
   "id": "1b9f9efa-af55-4358-8bda-821fe1f04113",
   "metadata": {},
   "source": [
    "# 解析图片"
   ]
  },
  {
   "cell_type": "code",
   "execution_count": 9,
   "id": "56f6d650-07a8-4302-a3e0-58e801a6914b",
   "metadata": {},
   "outputs": [],
   "source": [
    "# 将图片编解码\n",
    "def image2b64(image_file):\n",
    "    with open(image_file, \"rb\") as f:\n",
    "        image_b64 = base64.b64encode(f.read()).decode()\n",
    "        return image_b64"
   ]
  },
  {
   "cell_type": "code",
   "execution_count": 10,
   "id": "07ce43c6-78b8-4582-9c7e-e21309d3c8e1",
   "metadata": {},
   "outputs": [],
   "source": [
    "# 判断文件格式\n",
    "ALLOWED_EXTENSIONS = {'png', 'jpg', 'jpeg', 'gif', 'bmp','.webp'}\n",
    "\n",
    "def is_image_file(filename):\n",
    "    return '.' in filename and filename.rsplit('.', 1)[1].lower() in ALLOWED_EXTENSIONS"
   ]
  },
  {
   "cell_type": "code",
   "execution_count": 11,
   "id": "bc45f7e1-07f9-47a0-a4e5-76f47c963da8",
   "metadata": {},
   "outputs": [],
   "source": [
    "#将编码后的图像按照格式给到Microsoft Phi 3 vision \n",
    "def give_Phi_3(image_b64):\n",
    "    chart_reading = ChatNVIDIA(model=\"microsoft/phi-3-vision-128k-instruct\")\n",
    "    result = chart_reading.invoke(f'Identify objects in the image and tell me whether the picture is things or buliding or animals or people or landscapes，only describe the key points and its details such as color in 50 words  : <img src=\"data:image/png;base64,{image_b64}\" />')\n",
    "    return result.content\n",
    "    "
   ]
  },
  {
   "cell_type": "markdown",
   "id": "472b14bf-51a9-4bc5-b809-a073ab074af2",
   "metadata": {},
   "source": [
    "# 主程序"
   ]
  },
  {
   "cell_type": "code",
   "execution_count": 12,
   "id": "da38a532-c909-4db8-9a2d-1df692cf9c4b",
   "metadata": {},
   "outputs": [],
   "source": [
    "# 让deepseek改为中文\n",
    "def deepseek_i_love_u(content,path_cache,AI_model):\n",
    "    store = CreateVectorData(path_cache)\n",
    "    #print(store)\n",
    "    chat_llm = ChatNVIDIA(model=AI_model)\n",
    "    #chat_llm = ChatNVIDIA(model=\"deepseek-ai/deepseek-r1\")\n",
    "    #chat_llm = ChatNVIDIA(model=\"mediatek/breeze-7b-instruct\")\n",
    "    #llm = ChatNVIDIA(model=\"meta/llama3-70b-instruct\")\n",
    "    if store!=None:\n",
    "        retriever = store.as_retriever()\n",
    "    prompt = ChatPromptTemplate.from_messages(\n",
    "        [\n",
    "            (\n",
    "                \"system\",\n",
    "                (\n",
    "                \"下面开始快问快答环节，以下是答案的规则\"\n",
    "                \"首先按顺序检索，属性只能出现一个：产品，人物，动物，文字，风景，建筑，其他\\n\"\n",
    "                \"猫是动物，棕色等于橘色等于黄色，灰白色等于灰色,花色等于多种颜色等于三花\"\n",
    "                \"其二思考图片主角的名字从context中提取:\\n<Documents>\\n{context}\\n</Documents>\\n\"\n",
    "                #\"其三用第一感觉描述图片内容\\n\"\n",
    "                \"其三如动物、建筑有名字，则用名字代替品种，例如用猫名代替猫\"\n",
    "                \"模仿输出范例命名:建筑_建筑名\"\n",
    "                \"模仿输出范例命名:动物_动物名及动作\"\n",
    "                \"在最后一行按照输出格式输出一行内容不超过二十个字：属性_图片内容\"\n",
    "                )\n",
    "                \n",
    "            ),\n",
    "            (\"user\", \"{input}\"),\n",
    "        ]\n",
    "    )\n",
    "                # \"下面开始快问快答环节，以下是答案的规则:\"\n",
    "                # \"生成文本\\n\"\n",
    "                # \"具体格式是：类别_名字_描述\\n\"\n",
    "                # \"类别必不可少，从以下列表中查找：[产品,人物,动物,文字,风景,建筑,其它]\\n\"\n",
    "                # \"名字从context中查找，没有找到的话就忽略:\\n<Documents>\\n{context}\\n</Documents>\\n\"\n",
    "                # \"描述要具有概括性，1-10个字的纯文本或数字，不要有任何符号\\n\"\n",
    "    #print (prompt)\n",
    "    #\"你要给图片文件重命名\"|\"文字内容是图片内容\"|\n",
    "    rhyme_chain =({\"context\": retriever,\"input\": RunnablePassthrough()}\n",
    "        | prompt \n",
    "        | chat_llm \n",
    "        | StrOutputParser())\n",
    "    out = rhyme_chain.invoke(content)\n",
    "    # out = rhyme_chain.invoke((\"用1-10个字描述概括内容,字数越少越好\"\n",
    "    #                 \"给出文章中所提到的图片内容属性人或动物或文字，并且用1-12个字描述内容比如：白色的塔，灰色猫猫在怀里,蓝色的罐头\"\n",
    "    #                 \"按顺序检索，属性只能出现一个：产品，人，动物，文字，风景，建筑，其他\"\n",
    "    #                 \"遇见动物，人，地标以其名字命名\"\n",
    "    #                 \"输出格式只输出以下格式内容：属性_图片内容（输出范例：人_骑着马的人）\"\n",
    "    #              ))\n",
    "    print(out)\n",
    "    RenameText = CleanText(out)\n",
    "    print(RenameText)\n",
    "    return RenameText"
   ]
  },
  {
   "cell_type": "markdown",
   "id": "13f5efd8-0e4e-49a6-8f7c-cd9566c73b35",
   "metadata": {},
   "source": [
    "# 主程序函数"
   ]
  },
  {
   "cell_type": "code",
   "execution_count": 13,
   "id": "9856575d-7dd7-4e36-a2b7-cd3577519fca",
   "metadata": {},
   "outputs": [],
   "source": [
    "# 图片加载\n",
    "# image_b64 = image2b64(\"./img_cache/IMG20240809142209_new_new.jpg\")\n",
    "def changename(path_in,path_out,path_cache,AI_MODEL):\n",
    "    os.makedirs(path_cache, exist_ok=True)\n",
    "    # 遍历加载\n",
    "    fileList = os.listdir(path_in)\n",
    "    # print(fileList)\n",
    "    for f in fileList:\n",
    "        file_path = os.path.join(path_in, f)\n",
    "        file_output = os.path.join(path_cache, f)\n",
    "        if is_image_file(f):\n",
    "            # print(file_path)\n",
    "            UploadImg(file_path,file_output)\n",
    "            image_b64 = image2b64(file_output)\n",
    "            #display(Image.open(file_output))\n",
    "            phi3_content = give_Phi_3(image_b64)\n",
    "            print(phi3_content)\n",
    "            RenameText = deepseek_i_love_u(phi3_content,path_cache,AI_MODEL)\n",
    "            #改图片名称\n",
    "            #portion = f.split(\".\")[0]# 获取文件名的前半部分\n",
    "            name, ext = os.path.splitext(f)  # 分割文件名和扩展名\n",
    "            new_name = f\"{RenameText}{ext}\"\n",
    "            #print(portion)\n",
    "            #print(new_name)\n",
    "            # 目标文件路径\n",
    "            new_filepath = os.path.join(path_out, new_name)\n",
    "            # 复制文件（保留原文件）\n",
    "            shutil.copy2(file_path, new_filepath)\n",
    "            print(f\"Copied: {f} -> {new_name}\")\n",
    "            \n",
    "    \n"
   ]
  },
  {
   "cell_type": "markdown",
   "id": "4288f591-29db-4896-9026-b33fc1747b79",
   "metadata": {},
   "source": [
    "# 彩蛋"
   ]
  },
  {
   "cell_type": "code",
   "execution_count": 14,
   "id": "142f8d12-8a95-4b5f-ba8d-cea5131271b1",
   "metadata": {},
   "outputs": [],
   "source": [
    "# import os\n",
    "# def ifcatdog(path_out):\n",
    "#     fileList = os.listdir(path_out)\n",
    "#     for f in fileList:\n",
    "#         name, ext = os.path.splitext(f)\n",
    "#         if \"猫\" in name or \"狗\" in name:\n",
    "#             return name\n",
    "# print(ifcatdog(\"./img_out\"))        "
   ]
  },
  {
   "cell_type": "code",
   "execution_count": 15,
   "id": "fa5fd5c5-cb67-4f37-b8b1-5cad5498ebf4",
   "metadata": {},
   "outputs": [],
   "source": [
    "def KUAKUA(text,AI_model):\n",
    "    chat_llm = ChatNVIDIA(model=AI_model)\n",
    "    prompt = ChatPromptTemplate.from_messages(\n",
    "        [\n",
    "            (\n",
    "                \"system\",\n",
    "                (\n",
    "                \"下面开始快问快答环节，以下是答案的规则\"\n",
    "                \"'已你也有{input}啊！'为句首\"\n",
    "                \"生成100字夸夸文\"\n",
    "                )\n",
    "            ),\n",
    "            (\"user\", \"{input}\"),\n",
    "        ]\n",
    "    )\n",
    "    rhyme_chain =( prompt | chat_llm | StrOutputParser())\n",
    "    out = rhyme_chain.invoke(text)\n",
    "    KUAKUA = CleanText(out)\n",
    "    return KUAKUA"
   ]
  },
  {
   "cell_type": "code",
   "execution_count": 16,
   "id": "6df69ff5-ea74-4a84-9c1f-30985a38d458",
   "metadata": {},
   "outputs": [],
   "source": [
    "import os\n",
    "import gradio as gr\n",
    "def contains_cat_or_dog(path_out,AI_model):\n",
    "    # 检查字符串中是否包含“猫”或“狗”\n",
    "    fileList = os.listdir(path_out)\n",
    "    for f in fileList:\n",
    "        name, ext = os.path.splitext(f)\n",
    "        if \"猫\" in name :\n",
    "            hideText = \"猫\"\n",
    "            text = KUAKUA(hideText,AI_model)\n",
    "            Hidden_surprise = True\n",
    "            #print(hideText)\n",
    "            break\n",
    "        elif \"狗\" in name:\n",
    "            hideText = \"狗\"\n",
    "            text = KUAKUA(hideText,AI_model)\n",
    "            Hidden_surprise = True\n",
    "            break\n",
    "    else:\n",
    "        text=\"\"\n",
    "        Hidden_surprise = False\n",
    "    print(Hidden_surprise)\n",
    "    return text,Hidden_surprise\n",
    "#AI_MODEL=\"deepseek-ai/deepseek-r1\"\n",
    "#speech_text, Hidden_surprise = contains_cat_or_dog(\"./img_out\",AI_MODEL)\n",
    "#print(Hidden_surprise)"
   ]
  },
  {
   "cell_type": "code",
   "execution_count": 17,
   "id": "7ba89bb7-8716-4df2-b8ca-fac3703182ae",
   "metadata": {},
   "outputs": [],
   "source": [
    "#%pip install gtts\n",
    "import os\n",
    "def text_to_speech(text,cache):\n",
    "    if not text:\n",
    "        return None\n",
    "    processid = str(uuid.uuid1())\n",
    "    audio_path=f'edge-tts  --text \"{text}\" -v=zh-TW-HsiaoChenNeural --write-media {processid}/Hidden_surprise.mp3'\n",
    "    os.system(audio_path)\n",
    "    return processid\n",
    "#speech_text=\"已你也有狗啊！简直是人间的幸运儿！那双水汪汪的大眼睛像是会说话，毛茸茸的尾巴摇成小螺旋桨，每次回家都像在放烟花欢迎你！它扑进怀里时仿佛带着阳光的温度，咬拖鞋的憨样能让人笑出眼泪。深夜加班时默默趴在脚边的小身影，比任何情话都温暖；清晨叼着玩具蹭你起床的执着，胜过十个闹钟。这个小生命懂得用爪子擦眼泪，用鼻尖拱手心，用一生诠释陪伴是最长情的告白。谁说天使没有尾巴？你家这位就是坠入凡尘的毛茸神明呀！\"\n",
    "#text_to_speech(speech_text)"
   ]
  },
  {
   "cell_type": "markdown",
   "id": "8a060681-f52a-452d-a428-6c624404fb14",
   "metadata": {},
   "source": [
    "# 前端gradio"
   ]
  },
  {
   "cell_type": "code",
   "execution_count": null,
   "id": "ee858ec8-3458-4d75-bb13-cd41e12f1244",
   "metadata": {
    "scrolled": true
   },
   "outputs": [
    {
     "name": "stdout",
     "output_type": "stream",
     "text": [
      "Running on local URL:  http://0.0.0.0:8808\n",
      "\n",
      "Could not create share link. Missing file: C:\\Users\\Manda\\.conda\\envs\\ai_endpoint\\lib\\site-packages\\gradio\\frpc_windows_amd64_v0.2. \n",
      "\n",
      "Please check your internet connection. This can happen if your antivirus software blocks the download of this file. You can install manually by following these steps: \n",
      "\n",
      "1. Download this file: https://cdn-media.huggingface.co/frpc-gradio-0.2/frpc_windows_amd64.exe\n",
      "2. Rename the downloaded file to: frpc_windows_amd64_v0.2\n",
      "3. Move the file to this location: C:\\Users\\Manda\\.conda\\envs\\ai_endpoint\\lib\\site-packages\\gradio\n"
     ]
    },
    {
     "data": {
      "text/html": [
       "<div><iframe src=\"http://localhost:8808/\" width=\"100%\" height=\"500\" allow=\"autoplay; camera; microphone; clipboard-read; clipboard-write;\" frameborder=\"0\" allowfullscreen></iframe></div>"
      ],
      "text/plain": [
       "<IPython.core.display.HTML object>"
      ]
     },
     "metadata": {},
     "output_type": "display_data"
    },
    {
     "name": "stdout",
     "output_type": "stream",
     "text": [
      "已删除过期文件夹：./cache\\{process_id}\n",
      "已删除过期文件夹：./cache\\fc57ad6c-f1a5-11ef-bfff-34cff69a6766\n",
      "已删除过期文件夹：./cache\\8d3271e2-f19e-11ef-aa68-34cff69a6766\n",
      "已删除过期文件夹：./cache\\7da5940a-f1a1-11ef-9ed6-34cff69a6766\n",
      "已删除过期文件夹：./cache\\4ef92e87-f1a2-11ef-b733-34cff69a6766\n",
      "已删除过期文件夹：./cache\\42a69d95-f1a1-11ef-86cb-34cff69a6766\n",
      "已删除过期文件夹：./cache\\39d4d938-f19f-11ef-92a2-34cff69a6766\n",
      "已删除过期文件夹：./cache\\374c2273-f19e-11ef-b3a6-34cff69a6766\n",
      "已删除过期文件夹：./cache\\168183d0-f19f-11ef-add9-34cff69a6766\n",
      "已删除过期文件夹：./cache\\0663dd21-f1a6-11ef-a4b9-34cff69a6766\n",
      "删除失败 ./cache\\{process_id}\\img_out: [WinError 3] 系统找不到指定的路径。: './cache\\\\{process_id}\\\\img_out'\n",
      "删除失败 ./cache\\{process_id}\\img_in: [WinError 3] 系统找不到指定的路径。: './cache\\\\{process_id}\\\\img_in'\n",
      "删除失败 ./cache\\{process_id}\\img_cache: [WinError 3] 系统找不到指定的路径。: './cache\\\\{process_id}\\\\img_cache'\n",
      "删除失败 ./cache\\{process_id}\\img_cache\\RAG: [WinError 3] 系统找不到指定的路径。: './cache\\\\{process_id}\\\\img_cache\\\\RAG'\n",
      "删除失败 ./cache\\fc57ad6c-f1a5-11ef-bfff-34cff69a6766\\img_out: [WinError 3] 系统找不到指定的路径。: './cache\\\\fc57ad6c-f1a5-11ef-bfff-34cff69a6766\\\\img_out'\n",
      "删除失败 ./cache\\fc57ad6c-f1a5-11ef-bfff-34cff69a6766\\img_in: [WinError 3] 系统找不到指定的路径。: './cache\\\\fc57ad6c-f1a5-11ef-bfff-34cff69a6766\\\\img_in'\n",
      "删除失败 ./cache\\fc57ad6c-f1a5-11ef-bfff-34cff69a6766\\img_cache: [WinError 3] 系统找不到指定的路径。: './cache\\\\fc57ad6c-f1a5-11ef-bfff-34cff69a6766\\\\img_cache'\n",
      "删除失败 ./cache\\fc57ad6c-f1a5-11ef-bfff-34cff69a6766\\img_cache\\RAG: [WinError 3] 系统找不到指定的路径。: './cache\\\\fc57ad6c-f1a5-11ef-bfff-34cff69a6766\\\\img_cache\\\\RAG'\n",
      "删除失败 ./cache\\8d3271e2-f19e-11ef-aa68-34cff69a6766\\img_out: [WinError 3] 系统找不到指定的路径。: './cache\\\\8d3271e2-f19e-11ef-aa68-34cff69a6766\\\\img_out'\n",
      "删除失败 ./cache\\8d3271e2-f19e-11ef-aa68-34cff69a6766\\img_in: [WinError 3] 系统找不到指定的路径。: './cache\\\\8d3271e2-f19e-11ef-aa68-34cff69a6766\\\\img_in'\n",
      "删除失败 ./cache\\8d3271e2-f19e-11ef-aa68-34cff69a6766\\img_cache: [WinError 3] 系统找不到指定的路径。: './cache\\\\8d3271e2-f19e-11ef-aa68-34cff69a6766\\\\img_cache'\n",
      "删除失败 ./cache\\8d3271e2-f19e-11ef-aa68-34cff69a6766\\img_cache\\RAG: [WinError 3] 系统找不到指定的路径。: './cache\\\\8d3271e2-f19e-11ef-aa68-34cff69a6766\\\\img_cache\\\\RAG'\n",
      "删除失败 ./cache\\7da5940a-f1a1-11ef-9ed6-34cff69a6766\\img_out: [WinError 3] 系统找不到指定的路径。: './cache\\\\7da5940a-f1a1-11ef-9ed6-34cff69a6766\\\\img_out'\n",
      "删除失败 ./cache\\7da5940a-f1a1-11ef-9ed6-34cff69a6766\\img_in: [WinError 3] 系统找不到指定的路径。: './cache\\\\7da5940a-f1a1-11ef-9ed6-34cff69a6766\\\\img_in'\n",
      "删除失败 ./cache\\7da5940a-f1a1-11ef-9ed6-34cff69a6766\\img_cache: [WinError 3] 系统找不到指定的路径。: './cache\\\\7da5940a-f1a1-11ef-9ed6-34cff69a6766\\\\img_cache'\n",
      "删除失败 ./cache\\7da5940a-f1a1-11ef-9ed6-34cff69a6766\\img_cache\\RAG: [WinError 3] 系统找不到指定的路径。: './cache\\\\7da5940a-f1a1-11ef-9ed6-34cff69a6766\\\\img_cache\\\\RAG'\n",
      "删除失败 ./cache\\4ef92e87-f1a2-11ef-b733-34cff69a6766\\img_out: [WinError 3] 系统找不到指定的路径。: './cache\\\\4ef92e87-f1a2-11ef-b733-34cff69a6766\\\\img_out'\n",
      "删除失败 ./cache\\4ef92e87-f1a2-11ef-b733-34cff69a6766\\img_in: [WinError 3] 系统找不到指定的路径。: './cache\\\\4ef92e87-f1a2-11ef-b733-34cff69a6766\\\\img_in'\n",
      "删除失败 ./cache\\4ef92e87-f1a2-11ef-b733-34cff69a6766\\img_cache: [WinError 3] 系统找不到指定的路径。: './cache\\\\4ef92e87-f1a2-11ef-b733-34cff69a6766\\\\img_cache'\n",
      "删除失败 ./cache\\4ef92e87-f1a2-11ef-b733-34cff69a6766\\img_cache\\RAG: [WinError 3] 系统找不到指定的路径。: './cache\\\\4ef92e87-f1a2-11ef-b733-34cff69a6766\\\\img_cache\\\\RAG'\n",
      "删除失败 ./cache\\42a69d95-f1a1-11ef-86cb-34cff69a6766\\img_out: [WinError 3] 系统找不到指定的路径。: './cache\\\\42a69d95-f1a1-11ef-86cb-34cff69a6766\\\\img_out'\n",
      "删除失败 ./cache\\42a69d95-f1a1-11ef-86cb-34cff69a6766\\img_in: [WinError 3] 系统找不到指定的路径。: './cache\\\\42a69d95-f1a1-11ef-86cb-34cff69a6766\\\\img_in'\n",
      "删除失败 ./cache\\42a69d95-f1a1-11ef-86cb-34cff69a6766\\img_cache: [WinError 3] 系统找不到指定的路径。: './cache\\\\42a69d95-f1a1-11ef-86cb-34cff69a6766\\\\img_cache'\n",
      "删除失败 ./cache\\42a69d95-f1a1-11ef-86cb-34cff69a6766\\img_cache\\RAG: [WinError 3] 系统找不到指定的路径。: './cache\\\\42a69d95-f1a1-11ef-86cb-34cff69a6766\\\\img_cache\\\\RAG'\n",
      "删除失败 ./cache\\39d4d938-f19f-11ef-92a2-34cff69a6766\\img_out: [WinError 3] 系统找不到指定的路径。: './cache\\\\39d4d938-f19f-11ef-92a2-34cff69a6766\\\\img_out'\n",
      "删除失败 ./cache\\39d4d938-f19f-11ef-92a2-34cff69a6766\\img_in: [WinError 3] 系统找不到指定的路径。: './cache\\\\39d4d938-f19f-11ef-92a2-34cff69a6766\\\\img_in'\n",
      "删除失败 ./cache\\39d4d938-f19f-11ef-92a2-34cff69a6766\\img_cache: [WinError 3] 系统找不到指定的路径。: './cache\\\\39d4d938-f19f-11ef-92a2-34cff69a6766\\\\img_cache'\n",
      "删除失败 ./cache\\39d4d938-f19f-11ef-92a2-34cff69a6766\\img_cache\\RAG: [WinError 3] 系统找不到指定的路径。: './cache\\\\39d4d938-f19f-11ef-92a2-34cff69a6766\\\\img_cache\\\\RAG'\n",
      "删除失败 ./cache\\374c2273-f19e-11ef-b3a6-34cff69a6766\\img_cache: [WinError 3] 系统找不到指定的路径。: './cache\\\\374c2273-f19e-11ef-b3a6-34cff69a6766\\\\img_cache'\n",
      "删除失败 ./cache\\374c2273-f19e-11ef-b3a6-34cff69a6766\\img_cache\\RAG: [WinError 3] 系统找不到指定的路径。: './cache\\\\374c2273-f19e-11ef-b3a6-34cff69a6766\\\\img_cache\\\\RAG'\n",
      "删除失败 ./cache\\168183d0-f19f-11ef-add9-34cff69a6766\\img_out: [WinError 3] 系统找不到指定的路径。: './cache\\\\168183d0-f19f-11ef-add9-34cff69a6766\\\\img_out'\n",
      "删除失败 ./cache\\168183d0-f19f-11ef-add9-34cff69a6766\\img_in: [WinError 3] 系统找不到指定的路径。: './cache\\\\168183d0-f19f-11ef-add9-34cff69a6766\\\\img_in'\n",
      "删除失败 ./cache\\168183d0-f19f-11ef-add9-34cff69a6766\\img_cache: [WinError 3] 系统找不到指定的路径。: './cache\\\\168183d0-f19f-11ef-add9-34cff69a6766\\\\img_cache'\n",
      "删除失败 ./cache\\168183d0-f19f-11ef-add9-34cff69a6766\\img_cache\\RAG: [WinError 3] 系统找不到指定的路径。: './cache\\\\168183d0-f19f-11ef-add9-34cff69a6766\\\\img_cache\\\\RAG'\n",
      "删除失败 ./cache\\0663dd21-f1a6-11ef-a4b9-34cff69a6766\\img_out: [WinError 3] 系统找不到指定的路径。: './cache\\\\0663dd21-f1a6-11ef-a4b9-34cff69a6766\\\\img_out'\n",
      "删除失败 ./cache\\0663dd21-f1a6-11ef-a4b9-34cff69a6766\\img_in: [WinError 3] 系统找不到指定的路径。: './cache\\\\0663dd21-f1a6-11ef-a4b9-34cff69a6766\\\\img_in'\n",
      "删除失败 ./cache\\0663dd21-f1a6-11ef-a4b9-34cff69a6766\\img_cache: [WinError 3] 系统找不到指定的路径。: './cache\\\\0663dd21-f1a6-11ef-a4b9-34cff69a6766\\\\img_cache'\n",
      "删除失败 ./cache\\0663dd21-f1a6-11ef-a4b9-34cff69a6766\\img_cache\\RAG: [WinError 3] 系统找不到指定的路径。: './cache\\\\0663dd21-f1a6-11ef-a4b9-34cff69a6766\\\\img_cache\\\\RAG'\n",
      "The image shows a close-up of a yellow-orange bottle with a blue label, containing a yellow liquid. The label has Chinese characters and a picture of a fruit, possibly a peach, on it. The bottle is placed inside a cardboard box. The objects in the image are a bottle and a box.\n"
     ]
    },
    {
     "name": "stderr",
     "output_type": "stream",
     "text": [
      "C:\\Users\\Manda\\.conda\\envs\\ai_endpoint\\lib\\site-packages\\langchain_nvidia_ai_endpoints\\_common.py:208: UserWarning: Found deepseek-ai/deepseek-r1 in available_models, but type is unknown and inference may fail.\n",
      "  warnings.warn(\n"
     ]
    },
    {
     "name": "stdout",
     "output_type": "stream",
     "text": [
      "<think>\n",
      "好的，我现在要处理这个问题。用户给了一张图片，里面有个橙黄色的瓶子，带蓝色标签，里面装黄色液体，标签上有中文和桃子图案，放在纸盒里。还有，用户提供的规则挺多的，需要仔细处理。\n",
      "\n",
      "首先，我需要确定属性。规则里说属性只能出现一个：产品、人物、动物、文字、风景、建筑、其他。图片里主要是瓶子和盒子，都是产品，所以属性应该是产品。\n",
      "\n",
      "然后，根据命名规则，如果是产品的话，应该用产品名。但问题是从context里提取名字，可能用户希望用瓶子上的中文文字或者品牌名。但图片里没有提到具体品牌名，只有中文字符和桃子图案。这时候可能要考虑是否用水果名或者产品的类型来命名。\n",
      "\n",
      "用户还提到，如果有名字就用名字，比如建筑名或动物名。但这里是产品，可能没有具体名字，所以可能需要描述内容。例如，产品_桃子味饮料瓶和包装盒。但是用户给的例子是“动物_动物名及动作”，所以可能需要更简洁的名称。\n",
      "\n",
      "另外，用户提到中文字符在标签上，所以可能需要考虑是否是某种饮料，比如桃子味的。但不确定是否有品牌名，所以可能只能描述为桃子味饮料瓶。放在盒子里的话，可以加上包装盒。但输出内容不超过20字，所以需要简略。\n",
      "\n",
      "可能正确的命名是“产品_桃子味饮料瓶及包装盒”，但需要检查字数。或者更简短一点，比如“产品_桃子味饮料瓶和盒子”。但用户例子中使用的是“及”连接，可能更倾向于用“及”。再数一下字数，不超过20字的话应该可以。比如“产品_桃子味饮料瓶及包装盒”，这样是15个字左右，符合要求。\n",
      "\n",
      "确认一下是否还有其他属性需要考虑。图片中没有人物、动物、建筑等，所以确定属性是产品没错。标签上的中文可能是品牌名，但如果没有明确指出，只能用内容物来描述。桃子味饮料瓶比较准确，加上包装盒。这样就可以了。\n",
      "</think>\n",
      "\n",
      "产品_桃子味饮料瓶及包装盒\n",
      "产品_桃子味饮料瓶及包装盒\n",
      "Copied: 1000020015.jpg -> 产品_桃子味饮料瓶及包装盒.jpg\n",
      "The image features a person dressed in traditional attire, seated on a horse. The person is wearing a red and gold outfit with a fur-lined jacket and a decorative headpiece. The horse is brown with a saddle and bridle. The background is a wooden structure, suggesting an outdoor setting. The image captures a moment of a person in historical or ceremonial dress, likely from a period drama or historical reenactment.\n"
     ]
    },
    {
     "name": "stderr",
     "output_type": "stream",
     "text": [
      "C:\\Users\\Manda\\.conda\\envs\\ai_endpoint\\lib\\site-packages\\langchain_nvidia_ai_endpoints\\_common.py:208: UserWarning: Found deepseek-ai/deepseek-r1 in available_models, but type is unknown and inference may fail.\n",
      "  warnings.warn(\n"
     ]
    },
    {
     "name": "stdout",
     "output_type": "stream",
     "text": [
      "<think>\n",
      "好的，让我仔细分析一下用户提供的描述和规则。首先，用户要求根据给定的图片内容进行分类命名，并遵守特定的规则。\n",
      "\n",
      "图片描述中有一个穿着传统服饰的人骑在棕色的马上，背景是木结构建筑。根据规则，属性只能选择一个，优先级是产品、人物、动物、文字、风景、建筑、其他。这里的主要元素是人物和动物（马），还有背景中的建筑。按照顺序，人物优先于动物和建筑，所以属性应定为“人物”。\n",
      "\n",
      "接下来，命名需要包含名称和动作。人物没有提到具体的名字，所以用“传统服饰骑手”来概括。马是棕色的，但根据规则，棕色等于橘色或黄色，这里用“棕色马匹”更准确。背景的建筑是木结构，但属性已经定为人物，所以不单独提建筑。动作方面，人物在骑马，所以描述为“骑乘姿态”比较合适。\n",
      "\n",
      "综合起来，名称部分应该突出人物和他的动作，同时提到马的颜色和动作。因此，最终的命名应该是“人物_传统服饰骑手与棕色马匹骑乘姿态”。确保不超过20个字，符合要求。\n",
      "</think>\n",
      "\n",
      "人物_传统服饰骑手与棕色马匹骑乘姿态\n",
      "人物_传统服饰骑手与棕色马匹骑乘姿态\n",
      "Copied: 1000020053.jpg -> 人物_传统服饰骑手与棕色马匹骑乘姿态.jpg\n",
      "The image shows a nighttime cityscape with buildings, streetlights, and vehicles. There's a crosswalk with a metal pole, and the ground is paved with tiles. The sky is dark, and the lighting is focused on the street. There are no visible animals, people, or distinct landscapes. The scene is urban with artificial lighting.\n"
     ]
    },
    {
     "name": "stderr",
     "output_type": "stream",
     "text": [
      "C:\\Users\\Manda\\.conda\\envs\\ai_endpoint\\lib\\site-packages\\langchain_nvidia_ai_endpoints\\_common.py:208: UserWarning: Found deepseek-ai/deepseek-r1 in available_models, but type is unknown and inference may fail.\n",
      "  warnings.warn(\n"
     ]
    },
    {
     "name": "stdout",
     "output_type": "stream",
     "text": [
      "<think>\n",
      "好的，我现在需要分析用户提供的图片描述，并按照他给出的规则来生成合适的标题。首先，用户给出的规则很详细，所以我必须仔细遵循每一步。\n",
      "\n",
      "先看图片描述：这是一幅夜晚的城市景观，有建筑物、路灯和车辆。人行横道上有金属杆，地面铺着瓷砖。天空黑暗，灯光集中在街道上。没有可见的动物、人物或明显的自然景观，整体是人工照明的都市场景。\n",
      "\n",
      "接下来，用户给出的规则第一步是判断属性，属性只能出现一个。按照提供的选项，可能的属性有产品、人物、动物、文字、风景、建筑、其他。图片中的主要元素是建筑物、街道、车辆、路灯，这些都属于城市景观，而用户明确指出没有动物或人物。因此，这里的属性应该是“建筑”或“风景”？\n",
      "\n",
      "不过，用户提到“风景”指的是自然景观，比如山川河流等，而这里是城市景观，属于建筑群。所以根据用户的分类，这里应该选择“建筑”作为属性吗？\n",
      "\n",
      "不过，根据用户提供的例子，比如“建筑_建筑名”或者“风景_风景名”，但这里没有具体的建筑名或风景名，所以可能需要用更通用的描述。但用户要求如果有名字就用名字代替，否则用品种。但这里没有具体的建筑名称，所以可能需要用“城市夜景”这样的描述。\n",
      "\n",
      "另外，用户的例子中提到，比如“动物_动物名”如果有名字的话，如果没有名字则用品种名。所以这里的建筑可能没有具体的名字，但属于城市街道景观，所以应该用“建筑_城市夜景”吗？或者可能“风景”更合适，因为城市景观可能被归类为风景的一种？\n",
      "\n",
      "仔细看用户提供的规则，如果属性只能出现一个，而建筑和风景是不同的属性。用户提到风景可能指自然景观，但这里明显是城市建筑群，所以应该属于建筑类别下的场景，例如“建筑_城市夜景”。或者是否应归为“风景”类别下的“城市风景”？\n",
      "\n",
      "这里可能存在模糊点。根据用户之前的例子，比如建筑有名字则用建筑名，否则可能用类型。而风景可能更多指自然景观。所以，可能正确的属性是“建筑”，然后描述为“城市夜景”？\n",
      "\n",
      "再核对用户提供的示例，用户提到“模仿输出范例命名:建筑_建筑名”例如“建筑_埃菲尔铁塔”，但如果没有具体的名字，可能用更一般的描述，比如“建筑_城市街道夜景”。\n",
      "\n",
      "不过，用户要求回答不超过20个字，所以需要简洁。例如“建筑_城市夜景”或者“风景_都市夜景”。但根据用户对风景和建筑的区分，城市景观可能属于建筑类别，因为包含建筑物、街道等。或者风景中的“都市夜景”是否属于风景？\n",
      "\n",
      "可能用户将城市景观归类为“建筑”或“风景”中的一种。可能需要再次仔细检查用户给出的规则。用户提到“风景”可能指自然景观，而这张图片是都市夜景，所以更可能属于“建筑”类别下的场景，或者“其他”类别？\n",
      "\n",
      "或者，是否存在“其他”的可能性？用户提到“其他”作为属性选项，但具体应用情况不明确。如果图片不符合其他属性，则可能归为其他。但这里主要是建筑和街道，所以应该归为建筑。\n",
      "\n",
      "因此，正确的属性应该是“建筑”，然后描述内容为“城市夜景街道”。这样符合不超过20个字的要求，并且准确描述图片中的内容。\n",
      "</think>\n",
      "\n",
      "建筑_城市夜景街道\n",
      "建筑_城市夜景街道\n",
      "Copied: 1740050866630.jpg -> 建筑_城市夜景街道.jpg\n",
      "The image features a tall, illuminated tower with a pointed top, possibly a lighthouse or a monument. The tower is surrounded by a fence with colorful lights, creating a vibrant, rainbow-like effect. The background is dark, emphasizing the brightly lit tower and fence. The image does not contain any animals, people, or landscapes.\n"
     ]
    },
    {
     "name": "stderr",
     "output_type": "stream",
     "text": [
      "C:\\Users\\Manda\\.conda\\envs\\ai_endpoint\\lib\\site-packages\\langchain_nvidia_ai_endpoints\\_common.py:208: UserWarning: Found deepseek-ai/deepseek-r1 in available_models, but type is unknown and inference may fail.\n",
      "  warnings.warn(\n"
     ]
    },
    {
     "name": "stdout",
     "output_type": "stream",
     "text": [
      "<think>\n",
      "好的，我现在需要处理用户的请求。他们提供了一张图片的描述，并要求按照特定规则命名。首先，我要仔细阅读用户的指示，确保完全理解所有要求。规则中提到属性只能有一个，按顺序优先选择产品、人物、动物、文字、风景、建筑、其他。图片里是一座高塔，有尖顶，周围有带彩色灯光的围栏，背景黑暗，没有动物、人物或风景。\n",
      "\n",
      "接下来，我需要确定属性类别。根据描述，主要元素是高塔，属于建筑类。用户提到如果有名字就用名字代替，但这里没有给出具体的名字，比如埃菲尔铁塔或灯塔名称，所以可能需要用类型命名。但仔细看例子，建筑名可能是具体的，比如“灯塔_某某灯塔”，但这里没有具体名字，可能需要用“灯饰塔”或类似描述。\n",
      "\n",
      "然后检查颜色是否适用。描述中提到彩色灯光形成彩虹效果，所以颜色可能为彩色。不过建筑本身可能是中性色，主要亮点是灯饰的颜色。根据规则，是否需要在名称中包含颜色？之前的例子如“建筑_埃菲尔铁塔夜景_彩色灯光”可能适用，所以可能需要包含颜色元素。\n",
      "\n",
      "另外，用户强调输出格式为“属性_图片内容”，不超过20字。需要确保简洁。可能的选项包括“建筑_灯饰塔与彩虹围栏_夜景”或“建筑_彩色灯饰塔_夜景”。考虑到描述中强调灯光和彩虹效果，突出彩色更为重要。所以最终可能定为“建筑_彩灯装饰塔_夜景”或类似，确保在字数限制内。\n",
      "\n",
      "最后确认是否所有条件满足：属性正确，没有其他元素，命名符合范例。没有提到具体名字，所以用描述性名称，颜色使用彩色或灯饰，最终确定名称。比如“建筑_彩灯塔与围栏_夜景”可能太长，缩短为“建筑_彩灯装饰塔_夜景”正好符合要求。\n",
      "</think>\n",
      "\n",
      "建筑_彩灯装饰塔_夜景\n",
      "建筑_彩灯装饰塔_夜景\n",
      "Copied: IMG20240807223400_new_new.jpg -> 建筑_彩灯装饰塔_夜景.jpg\n",
      "The image features a close-up of a cat with distinctive yellow and black markings on its face and ears. The cat is being held by a person wearing a silver bracelet. The background is blurred but includes a red object and a white surface. The focus is on the cat and the person holding it.\n"
     ]
    },
    {
     "name": "stderr",
     "output_type": "stream",
     "text": [
      "C:\\Users\\Manda\\.conda\\envs\\ai_endpoint\\lib\\site-packages\\langchain_nvidia_ai_endpoints\\_common.py:208: UserWarning: Found deepseek-ai/deepseek-r1 in available_models, but type is unknown and inference may fail.\n",
      "  warnings.warn(\n"
     ]
    },
    {
     "name": "stdout",
     "output_type": "stream",
     "text": [
      "<think>\n",
      "好的，我现在需要分析用户提供的图片描述，并按照给定的规则生成一个合适的命名。首先，用户提到的规则包括属性分类（产品、人物、动物、文字、风景、建筑、其他），并且每个属性只能出现一个。猫属于动物类，所以属性应该是动物。\n",
      "\n",
      "接下来，用户提到颜色转换：棕色等于橘色等于黄色，灰白色等于灰色，花色等于多种颜色等于三花。图片中的猫有黄色和黑色的斑纹，根据规则，黄色可以视为橘色或棕色，但这里主要的颜色是黄色和黑色，属于多种颜色，所以可能归类为三花猫。不过，用户还指出如果动物有名字的话要用名字代替品种。在提供的文档中，[Document(page_content='0')]可能没有给出具体的名字，所以可能需要使用品种或颜色特征命名。\n",
      "\n",
      "然后，用户要求模仿输出范例，比如“动物_动物名及动作”。这里猫被一个人抱着，动作应该是被抱着的状态。因此，命名可能需要包括“被抱着的猫”或者类似的表达。颜色方面，虽然描述中有黄色和黑色，但根据规则，花色可以简化为三花，但需要确认是否适用。不过用户提到的例子是“动物_动物名”，所以如果有名字的话优先用名字。但在这个案例中，似乎没有名字提供，所以可能需要使用颜色或品种。\n",
      "\n",
      "另外，用户强调在最后一行输出不超过二十个字的格式。所以需要简洁。例如“动物_三花猫被抱着”或者“动物_黄黑纹猫被抱着”。但根据颜色转换规则，黄色和黑色属于多种颜色，即花色，也就是三花，可能更符合规则中的简化。因此，可能更合适的是“动物_三花猫被抱着”。\n",
      "\n",
      "还要注意背景中的描述是否相关，但用户指出焦点在猫和抱着它的人，所以背景信息如红色物体和白色表面可以忽略，因为属性是动物，其他元素不需要提及。\n",
      "\n",
      "最终确认是否符合所有规则：属性正确（动物），使用颜色转换为三花，没有名字的情况下使用品种或颜色特征，动作描述为被抱着，总字数不超过二十。这样生成的答案应该是“动物_三花猫被抱着”。\n",
      "</think>\n",
      "\n",
      "动物_三花猫被抱着\n",
      "动物_三花猫被抱着\n",
      "Copied: IMG20240809142207.jpg -> 动物_三花猫被抱着.jpg\n",
      "The image features a close-up of a person's arm holding a cat. The cat has a white and grey coat with yellow eyes. The person is wearing a dark blue garment and a wristwatch. The background is blurred but appears to be an indoor setting with a white surface and a red object. The focus is on the interaction between the person and the cat.\n"
     ]
    },
    {
     "name": "stderr",
     "output_type": "stream",
     "text": [
      "C:\\Users\\Manda\\.conda\\envs\\ai_endpoint\\lib\\site-packages\\langchain_nvidia_ai_endpoints\\_common.py:208: UserWarning: Found deepseek-ai/deepseek-r1 in available_models, but type is unknown and inference may fail.\n",
      "  warnings.warn(\n"
     ]
    },
    {
     "name": "stdout",
     "output_type": "stream",
     "text": [
      "<think>\n",
      "好的，我需要分析用户提供的图片描述，并按照规则来命名。首先，规则中提到属性只能是产品、人物、动物、文字、风景、建筑或其他中的一个，且优先顺序按这个排列。图片中的主要元素是猫和人的手臂，所以属性应该选动物，因为动物排在人物之前。\n",
      "\n",
      "接下来，猫的颜色描述是白灰色和黄色的眼睛。根据规则，灰白色等于灰色，所以可以简化为灰色。名字需要从context中提取，但用户提供的文档里只有page_content='0'，并没有具体的名字信息。所以可能需要用品种或颜色来命名，不过规则提到如果有名字就用名字，否则用品种。这里可能没有给出名字，所以考虑颜色和品种的组合。\n",
      "\n",
      "用户示例中的命名方式如“动物_动物名及动作”，但这里没有提到猫的名字，所以可能需要用颜色和品种。例如“动物_灰白猫被抱着”。不过需要注意颜色是否准确，原描述是白和灰的毛，黄色眼睛，所以用灰白猫比较合适。人的手臂和背景中的其他元素如蓝色衣服、手表、室内环境，这些都是次要的，因为属性选动物，所以重点在猫。\n",
      "\n",
      "最后要确保输出不超过20字，用中文，格式为属性_内容。所以可能的命名是“动物_灰白猫与人互动”或者“动物_灰白猫被抱着”。但原描述中的互动是焦点，所以可能更准确的是“动物_灰白猫与人互动”。\n",
      "</think>\n",
      "\n",
      "动物_灰白猫与人互动\n",
      "动物_灰白猫与人互动\n",
      "Copied: IMG20240809142209.jpg -> 动物_灰白猫与人互动.jpg\n",
      "The image shows a digital caliper measuring a white object, which appears to be a ball, with a measurement of 26.6 mm. The caliper has a black body with white numbers and a digital display. The background is a wooden surface.\n"
     ]
    },
    {
     "name": "stderr",
     "output_type": "stream",
     "text": [
      "C:\\Users\\Manda\\.conda\\envs\\ai_endpoint\\lib\\site-packages\\langchain_nvidia_ai_endpoints\\_common.py:208: UserWarning: Found deepseek-ai/deepseek-r1 in available_models, but type is unknown and inference may fail.\n",
      "  warnings.warn(\n"
     ]
    },
    {
     "name": "stdout",
     "output_type": "stream",
     "text": [
      "<think>\n",
      "好的，我现在要分析用户提供的图片内容，并按照给定的规则来生成合适的描述。首先，我需要仔细阅读用户的问题和提供的示例，确保自己正确理解所有的规则和要求。\n",
      "\n",
      "用户给出的图片描述是：一张电子卡尺正在测量一个白色物体（看起来像球），显示测量值为26.6毫米。卡尺是黑色主体，带有白色数字和数字显示屏，背景是木质表面。\n",
      "\n",
      "根据用户的要求，首先需要确定属性分类。规则中提到属性只能是产品、人物、动物、文字、风景、建筑、其他中的一个。图片中的主要物体是电子卡尺，属于工具或测量设备，因此属性应归类为“产品”。\n",
      "\n",
      "接下来需要给图片内容命名。规则中提到如果有名字的话应该使用名字，但这里卡尺可能没有具体品牌或型号名称，因此可能需要使用其功能或特征来命名。例如，用户给出的例子中有“产品_电子卡尺测量白色球体”，因此这里同样适用。测量对象是白色球体，因此可以描述为“电子卡尺测量白色球体”。\n",
      "\n",
      "还要注意字数限制，不超过20个字。用户提供的示例“产品_电子卡尺测量白色球体”刚好符合这个要求，所以直接采用类似的格式。\n",
      "\n",
      "同时，用户提到背景是木质表面，但根据规则，如果主要焦点是产品，背景信息可能不需要特别强调，除非用户特别要求包含。因此，描述中应主要突出卡尺和被测物体。\n",
      "\n",
      "最后，确认所有规则是否被正确应用，包括属性分类正确、没有使用多余的颜色描述（因为白色球体已经足够），并且命名符合示例结构。这样最终的输出应该是正确的。\n",
      "</think>\n",
      "\n",
      "产品_电子卡尺测量白色球体\n",
      "产品_电子卡尺测量白色球体\n",
      "Copied: IMG20240815063128_new_new.jpg -> 产品_电子卡尺测量白色球体.jpg\n",
      "The image features a close-up of a cat's face. The cat has yellow and brown fur, with distinctive green eyes. It is wearing a collar, suggesting it is a domestic pet. The background is blurred but appears to be an indoor setting with a blue object, possibly a cushion or a part of a chair. The focus is on the cat, making it the main subject of the image.\n"
     ]
    },
    {
     "name": "stderr",
     "output_type": "stream",
     "text": [
      "C:\\Users\\Manda\\.conda\\envs\\ai_endpoint\\lib\\site-packages\\langchain_nvidia_ai_endpoints\\_common.py:208: UserWarning: Found deepseek-ai/deepseek-r1 in available_models, but type is unknown and inference may fail.\n",
      "  warnings.warn(\n"
     ]
    },
    {
     "name": "stdout",
     "output_type": "stream",
     "text": [
      "<think>\n",
      "好的，我需要先分析用户提供的描述和规则。首先，根据规则，属性只能出现一个，而给出的例子中提到了动物、人物、产品等。这里图片的主角是一只猫，属于动物，所以属性是动物。接下来需要确定名字，用户提到如果有名字就用名字代替品种。但描述中没有提到猫的具体名字，所以可能需要用颜色或特征来命名。\n",
      "\n",
      "描述中提到猫有黄色和棕色的毛，根据规则，棕色等于橘色等于黄色，所以可以简化为橘色。另外，猫戴着项圈，可能暗示是家养宠物。但名字部分没有明确给出，因此可能需要使用颜色作为名字的一部分，比如“橘色猫”或“黄棕猫”。但用户给的例子中有“动物_动物名”，比如“动物_橘猫”，所以可能应该使用颜色作为名字。\n",
      "\n",
      "然后检查是否有其他可能的属性，比如背景是室内，但主要焦点是猫，所以属性应确定为动物。最后按照输出格式，确保不超过20个字，所以可能的答案是“动物_橘色猫戴项圈”或者更简洁的命名。同时，用户提到动作在最后一行，描述中的猫可能是在静坐，不过戴项圈是静态特征，可能需要强调。综合起来，最合适的答案应该是“动物_橘猫戴项圈”。\n",
      "</think>\n",
      "\n",
      "动物_橘猫戴项圈\n",
      "动物_橘猫戴项圈\n",
      "Copied: IMG20240827141920.jpg -> 动物_橘猫戴项圈.jpg\n",
      "The image features a close-up of a cat's face. The cat has orange fur with white whiskers and is wearing a black collar. The background is blurred but shows a room with a shelf containing various items and a glimpse of a person's hand wearing a blue glove. The focus is on the cat, making it the main subject of the image.\n"
     ]
    },
    {
     "name": "stderr",
     "output_type": "stream",
     "text": [
      "C:\\Users\\Manda\\.conda\\envs\\ai_endpoint\\lib\\site-packages\\langchain_nvidia_ai_endpoints\\_common.py:208: UserWarning: Found deepseek-ai/deepseek-r1 in available_models, but type is unknown and inference may fail.\n",
      "  warnings.warn(\n"
     ]
    },
    {
     "name": "stdout",
     "output_type": "stream",
     "text": [
      "<think>\n",
      "嗯，我现在需要根据用户提供的规则和文档内容来生成一个符合要求的图片描述。首先，我要仔细阅读用户的指示，确保每个步骤都正确执行。\n",
      "\n",
      "用户提到开始快问快答环节，有特定的答案规则。属性只能出现一个：产品、人物、动物、文字、风景、建筑、其他。根据规则，首先按顺序检索，所以如果图片中有多个可能的属性，需要按顺序选择第一个出现的。比如，如果同时有动物和人物，应该选动物。\n",
      "\n",
      "接下来，文档内容里提到图片的主体是一只猫，橘色毛发，有白色胡须，戴着黑色项圈。背景是模糊的房间，有架子和一只戴蓝色手套的人手。但用户指出第三点，如果动物有名字的话应该用名字代替品种。然而在提供的文档中没有提到猫的名字，因此只能使用品种，即猫。\n",
      "\n",
      "然后，颜色方面需要注意棕色、橘色、黄色视为等同，灰白色和灰色等同，花色是多种颜色，比如三花。但这里猫是橘色和白色，可能属于橘白猫而不是三花，因为三花通常指黑、橘、白三色。所以可能不需要用花色，而是橘色和白色。\n",
      "\n",
      "输出格式需要是属性_图片内容，并且最后一行不超过20个字。正确的例子如“动物_猫名及动作”，但如果没有名字，应该用品种，即“动物_橘白猫”。\n",
      "\n",
      "检查所有条件是否符合：属性是动物，颜色正确，没有名字，所以使用品种。确认背景中的其他元素如人物或建筑是否需要考虑，但规则指出焦点是猫，所以属性应该是动物。最终答案应该是“动物_橘白猫”。\n",
      "</think>\n",
      "\n",
      "动物_橘白猫\n",
      "动物_橘白猫\n",
      "Copied: IMG20240827141927.jpg -> 动物_橘白猫.jpg\n",
      "The image features a cat with orange and white fur, lying on a red surface. The cat has a fork and knife in its mouth, suggesting it might be hungry. The background includes a blurred computer screen and a blue object, possibly a cup. The scene is indoors, likely a kitchen or dining area.\n"
     ]
    },
    {
     "name": "stderr",
     "output_type": "stream",
     "text": [
      "C:\\Users\\Manda\\.conda\\envs\\ai_endpoint\\lib\\site-packages\\langchain_nvidia_ai_endpoints\\_common.py:208: UserWarning: Found deepseek-ai/deepseek-r1 in available_models, but type is unknown and inference may fail.\n",
      "  warnings.warn(\n"
     ]
    },
    {
     "name": "stdout",
     "output_type": "stream",
     "text": [
      "<think>\n",
      "好的，让我仔细看看这个问题。用户提供了一张图片的描述，需要生成一个符合规则的命名。首先，我需要明确规则：属性只能是产品、人物、动物、文字、风景、建筑或其他中的一个。根据描述，图片的主角显然是一只猫，所以属性是动物。\n",
      "\n",
      "接下来要确认是否有名字。用户提到如果有名字的话用名字代替品种，但描述中没有给出猫的具体名字，所以只能用品种或颜色描述。猫的毛色是橙色和白色，根据规则，棕色等同于橘色和黄色，所以这里的橙色符合。不过这里是否需要合并颜色呢？比如，三花猫通常有黑、橘、白三色，但这里只有橘和白色，可能更接近橘白猫。或者用户提到花色等于多种颜色，所以可能归为三花色，但根据描述，只有两种颜色，所以可能还是作为橘白猫来处理。\n",
      "\n",
      "然后，猫的动作是躺着，嘴里有刀叉，可能表现出饥饿的状态。命名需要简洁，不超过20字。所以可能的组合是“动物_橘白猫叼刀叉躺红桌”。检查是否符合所有规则：属性正确，颜色描述正确，动作和场景也包含进去。再确认是否有其他可能的属性，比如是否有文字或建筑，但显然这些都是背景元素，主体是猫。所以最终答案应该是这样。\n",
      "</think>\n",
      "\n",
      "动物_橘白猫叼刀叉躺红桌\n",
      "动物_橘白猫叼刀叉躺红桌\n",
      "Copied: IMG20240828124638.jpg -> 动物_橘白猫叼刀叉躺红桌.jpg\n",
      "The image shows a cat curled up on a red blanket. The cat has a light brown coat with darker brown stripes. The blanket has a red and white pattern. In the background, there are various items including a white bag with black text, a blue object, and a black object with a white label. The setting appears to be indoors.\n"
     ]
    },
    {
     "name": "stderr",
     "output_type": "stream",
     "text": [
      "C:\\Users\\Manda\\.conda\\envs\\ai_endpoint\\lib\\site-packages\\langchain_nvidia_ai_endpoints\\_common.py:208: UserWarning: Found deepseek-ai/deepseek-r1 in available_models, but type is unknown and inference may fail.\n",
      "  warnings.warn(\n"
     ]
    },
    {
     "name": "stdout",
     "output_type": "stream",
     "text": [
      "<think>\n",
      "好的，我需要分析这张图片的内容，按照用户指定的规则来命名。首先确认属性是动物。图片中的猫是主要主体，它的颜色是浅棕色带有深棕条纹，不过根据规则，棕色等于橘色或黄色，但这里可能需要描述为三花色，因为条纹可能构成多种颜色组合。不过用户提到“花色等于三花”，但这里的猫是否有三种颜色呢？看起来主要是深浅棕色，可能不算典型的三花。或许直接称为橘色条纹猫更合适？但用户提到如果动物有名字就用名字，但原文中没有提到名字，所以需要用品种或颜色描述。\n",
      "\n",
      "另外背景中的红色毯子有红白图案，但属性是动物，所以专注于猫的描述。猫的动作是蜷缩在毯子上。根据范例，应该是“动物_猫名及动作”，但没有名字，所以可能需要用“橘色条纹猫_蜷缩”。不过根据颜色替换规则，棕色等于橘色，所以浅棕色可以称为橘色。条纹的话可能保留。所以最终的名称可能是“动物_橘色条纹猫蜷缩在红毯上”。但用户要求不超过20字，可能需要缩短。例如“动物_橘色条纹猫蜷缩红毯”。不过需要检查是否超过字数。“橘色条纹猫蜷缩红毯”是15个字，符合要求。不过用户提到如果有多种颜色且是花色，可能用三花。但这里的猫是否有白色部分呢？原文中只说浅棕色和深棕条纹，可能没有白色，所以可能还是橘色条纹猫更准确。综上，正确的命名应该是动物_橘色条纹猫蜷缩红毯。\n",
      "</think>\n",
      "\n",
      "动物_橘色条纹猫蜷缩红毯\n",
      "动物_橘色条纹猫蜷缩红毯\n",
      "Copied: IMG20240828155500.jpg -> 动物_橘色条纹猫蜷缩红毯.jpg\n",
      "The image features a white, cylindrical container with two smaller containers on top, resembling a milk jug. It is placed on a surface with a diamond plate pattern, likely a metal floor. The background is a plain, light-colored wall. The objects are inanimate, specifically designed for storage or transportation of liquids.\n"
     ]
    },
    {
     "name": "stderr",
     "output_type": "stream",
     "text": [
      "C:\\Users\\Manda\\.conda\\envs\\ai_endpoint\\lib\\site-packages\\langchain_nvidia_ai_endpoints\\_common.py:208: UserWarning: Found deepseek-ai/deepseek-r1 in available_models, but type is unknown and inference may fail.\n",
      "  warnings.warn(\n"
     ]
    },
    {
     "name": "stdout",
     "output_type": "stream",
     "text": [
      "<think>\n",
      "好的，我现在需要分析用户提供的图片描述，并按照给定的规则生成合适的命名。首先，用户给出的描述是一个白色的圆柱形容器，顶部有两个较小的容器，类似于牛奶壶。这个容器放置在有菱形花纹的表面上，可能是金属地板，背景是浅色的素墙。\n",
      "\n",
      "根据规则，我需要确定属性类别。属性只能是产品、人物、动物、文字、风景、建筑或其他中的一种。图片中的主要物体是一个容器，用于储存或运输液体，属于工业或日常使用的物品，所以属性应该是产品。\n",
      "\n",
      "接下来检查是否需要使用特定名称。如果有名字的话，比如建筑名或动物名，就需要用名称代替类别。但这里描述的是一个普通容器，没有提到品牌或特定名称，因此直接使用产品类别。\n",
      "\n",
      "然后要确定图片的具体内容。容器被描述为白色圆柱形，带有两个较小的顶部容器，类似牛奶壶，放置在菱形花纹的金属地板上，背景是浅色墙。需要将这些元素简洁地结合起来，同时保持不超过20字。\n",
      "\n",
      "考虑到颜色和形状，白色圆柱形容器可能被简称为“白色圆柱容器”或“牛奶壶式容器”。表面是菱形花纹金属地板，可以称为“菱形金属地板”。背景是素色墙壁，但可能不是重点，所以可能不需要特别提及。\n",
      "\n",
      "结合所有元素，可能的命名是“产品_白色圆柱容器与菱形金属地板”。这样涵盖了主要物体和其所在的表面特征，符合字数限制，并且属性正确归类为产品。\n",
      "</think>\n",
      "\n",
      "产品_白色圆柱容器与菱形金属地板\n",
      "产品_白色圆柱容器与菱形金属地板\n",
      "Copied: IMG20240906184120.jpg -> 产品_白色圆柱容器与菱形金属地板.jpg\n",
      "The image features a calico cat with distinctive orange, black, and white fur. The cat is sitting on a floor with a speckled pattern, likely tiles. The focus is on the cat's face, with its eyes looking directly at the camera. The background is blurred, emphasizing the cat. The image does not contain any other objects, buildings, or landscapes.\n"
     ]
    },
    {
     "name": "stderr",
     "output_type": "stream",
     "text": [
      "C:\\Users\\Manda\\.conda\\envs\\ai_endpoint\\lib\\site-packages\\langchain_nvidia_ai_endpoints\\_common.py:208: UserWarning: Found deepseek-ai/deepseek-r1 in available_models, but type is unknown and inference may fail.\n",
      "  warnings.warn(\n"
     ]
    },
    {
     "name": "stdout",
     "output_type": "stream",
     "text": [
      "<think>\n",
      "好的，我现在需要处理用户的这个查询，首先我要仔细理解用户的要求。用户希望进行一个快问快答环节，根据提供的规则生成图片的描述。规则中提到，属性只能出现一个，而且优先使用名字代替品种，比如如果有名字的动物或建筑，就用名字而不是类别。\n",
      "\n",
      "首先，我需要解析用户提供的图片信息。图片里有一只三花猫，颜色是橙色、黑色和白色，坐在有斑点的地板上，背景虚化，没有其他物体或建筑。用户还提到猫是动物，棕色等于橘色，灰白色等于灰色，三花属于多种颜色组合。\n",
      "\n",
      "接下来，按照规则，属性只能是动物、产品、人物等中的一个。这里显然是动物。然后检查是否有名字，但用户提供的信息中没有提到猫的名字，所以只能用品种，即三花猫。不过三花本身是颜色组合，可能需要确认是否可以用“三花”作为描述的一部分。根据用户给的例子，像“动物_动物名及动作”，这里如果没有名字的话，可能需要用品种，但用户提到如果有名字就用名字，否则用品种。所以这里应该用“三花猫”作为描述。\n",
      "\n",
      "动作方面，猫正在坐着，看着镜头。所以描述应该是“三花猫_坐在地板上凝视镜头”。需要确保不超过20个字，符合要求。检查是否有其他属性，用户提到没有建筑、风景或其他对象，所以属性确定为动物。\n",
      "\n",
      "再确认颜色是否符合替换规则，图片中的颜色是橙色、黑色、白色，符合三花猫的特征。用户说明中棕色等于橘色，所以没问题。最后生成的格式就是“动物_三花猫坐在地板上凝视镜头”。确认没有超过字数，并且符合所有规则。\n",
      "</think>\n",
      "\n",
      "动物_三花猫坐在地板上凝视镜头\n",
      "动物_三花猫坐在地板上凝视镜头\n",
      "Copied: IMG20250211164328.jpg -> 动物_三花猫坐在地板上凝视镜头.jpg\n",
      "The image features a Hako floor cleaning machine, predominantly orange and grey with a black top. It has a blue light on the front, yellow wheels, and a green handle. The machine is stationary against a plain background.\n"
     ]
    },
    {
     "name": "stderr",
     "output_type": "stream",
     "text": [
      "C:\\Users\\Manda\\.conda\\envs\\ai_endpoint\\lib\\site-packages\\langchain_nvidia_ai_endpoints\\_common.py:208: UserWarning: Found deepseek-ai/deepseek-r1 in available_models, but type is unknown and inference may fail.\n",
      "  warnings.warn(\n"
     ]
    },
    {
     "name": "stdout",
     "output_type": "stream",
     "text": [
      "<think>\n",
      "好的，我需要分析用户提供的图片描述，并根据他们的规则生成合适的名称。首先，用户指定了属性分类：产品、人物、动物、文字、风景、建筑、其他。每个属性只能出现一个，按顺序检索。\n",
      "\n",
      "图片描述是Hako地板清洁机，颜色主要是橙色和灰色，顶部黑色，前部有蓝灯，黄色轮子和绿色手柄。机器静止在纯色背景前。根据规则，清洁机属于产品类别，因为它是电器设备。接下来检查是否有其他属性更优先，比如动物或建筑，但这里明显是产品。Hako是产品名称，所以正确命名应为产品_Hako清洁机。颜色方面，用户提到橙色和灰色，所以需要包含这些颜色。最后确认名称不超过20字，符合要求。\n",
      "</think>\n",
      "\n",
      "产品_Hako橙色灰色清洁机\n",
      "产品_Hako橙色灰色清洁机\n",
      "Copied: PM_B45i_709x591.jpg -> 产品_Hako橙色灰色清洁机.jpg\n"
     ]
    },
    {
     "name": "stderr",
     "output_type": "stream",
     "text": [
      "C:\\Users\\Manda\\.conda\\envs\\ai_endpoint\\lib\\site-packages\\langchain_nvidia_ai_endpoints\\_common.py:208: UserWarning: Found deepseek-ai/deepseek-r1 in available_models, but type is unknown and inference may fail.\n",
      "  warnings.warn(\n"
     ]
    },
    {
     "name": "stdout",
     "output_type": "stream",
     "text": [
      "True\n",
      "已你也有猫啊！那毛茸茸的小山竹爪垫轻踩过键盘，忽闪的圆眼睛胜过银河星辰。你伏案时它团成暖烘烘的奶黄包，你失眠时用粉爪轻拍你的脸，连拆快递的声响都能让它从远方闪现成闪电侠。偶尔傲娇着背对世界，尾巴尖却偷偷勾住你的衣袖，这般口是心非的温柔最是致命。每当它用鼻尖蹭开你皱起的眉心，连月光都羡慕这场无声的救赎。\n",
      "d7393c31-f1b0-11ef-80e0-34cff69a6766\n",
      "The image features a tall, illuminated building with a pointed spire, possibly a church or cathedral. The structure is adorned with colorful lights, creating a vibrant display against the night sky. The lights are arranged in a pattern that resembles a rainbow, with colors ranging from red to purple. The building is the main focus of the image, and there are no other objects, animals, or people visible. The background is dark, emphasizing the brightly lit building.\n"
     ]
    },
    {
     "name": "stderr",
     "output_type": "stream",
     "text": [
      "C:\\Users\\Manda\\.conda\\envs\\ai_endpoint\\lib\\site-packages\\langchain_nvidia_ai_endpoints\\_common.py:208: UserWarning: Found deepseek-ai/deepseek-r1 in available_models, but type is unknown and inference may fail.\n",
      "  warnings.warn(\n"
     ]
    },
    {
     "name": "stdout",
     "output_type": "stream",
     "text": [
      "<think>\n",
      "好的，我现在需要分析用户提供的图片描述，并按照他们的规则生成正确的命名。首先，用户提到开始快问快答环节，答案规则是属性只能出现一个，属性包括产品、人物、动物、文字、风景、建筑、其他。\n",
      "\n",
      "从用户提供的描述来看，图片中的主体是一个高大的、带有尖顶的照明建筑，可能是教堂或大教堂。建筑上有彩色灯光，形成彩虹般的图案，背景是黑暗的夜空，没有其他物体、动物或人物可见。根据规则，这里属性应该是建筑，因为主要焦点是建筑物本身。\n",
      "\n",
      "接下来要确定建筑是否有名字。描述中没有提到具体的建筑名称，如“圣彼得大教堂”或“巴黎圣母院”等，因此可能无法提取具体的名字。在这种情况下，可能需要使用通用的描述，但用户要求如果有名字就用名字，否则可能需要进一步考虑。\n",
      "\n",
      "另外，用户提到如果建筑有名字则用名字代替，例如“建筑_建筑名”。但在这个案例中，描述中并没有给出具体的建筑名称，所以可能需要使用描述性名称。例如，根据其特点，如彩色灯光和尖顶，可能可以称为“彩虹尖塔大教堂”或者类似的名称。不过用户可能需要更通用的名称，或者如果无法确定具体名字，可能需要使用更一般的术语。\n",
      "\n",
      "然后，检查是否有其他可能的属性。比如，是否有风景？但用户指出建筑是主要焦点，背景黑暗，所以风景可能不是主要属性。因此属性应为建筑。\n",
      "\n",
      "最后，按照输出格式，属性为建筑，内容需要简洁描述，不超过20字。例如，结合彩色灯光和尖顶，可以命名为“建筑_彩虹尖塔大教堂”或者“建筑_多彩灯光尖顶教堂”。不过可能需要更简短的名称，如“建筑_彩虹光教堂”或“建筑_霓虹尖塔”。\n",
      "\n",
      "考虑到用户给出的例子如“建筑_建筑名”，这里可能需要创造一个富有描述性的名字，结合灯光和尖顶特征。例如“彩虹光尖塔大教堂”或者“霓虹尖顶教堂”。但需确保名称简洁且在20字以内。\n",
      "\n",
      "最终确定，因为没有具体名称，采用描述性名称，如“建筑_霓虹尖顶大教堂”或者“建筑_彩虹灯光教堂”。但可能需要更准确，根据描述中的“colors ranging from red to purple”即彩虹色，所以可能使用“建筑_彩虹尖塔教堂”或“建筑_霓虹尖顶大教堂”。\n",
      "</think>\n",
      "\n",
      "建筑_霓虹尖顶大教堂\n",
      "建筑_霓虹尖顶大教堂\n",
      "Copied: IMG20240807223400_new_new.jpg -> 建筑_霓虹尖顶大教堂.jpg\n",
      "The image features a close-up of a person's arm holding a cat. The cat has a white and grey coat with yellow eyes. The person is wearing a dark blue garment and a wristwatch. The background is blurred but appears to be an indoor setting with a white surface and a red object. The focus is on the interaction between the person and the cat.\n"
     ]
    },
    {
     "name": "stderr",
     "output_type": "stream",
     "text": [
      "C:\\Users\\Manda\\.conda\\envs\\ai_endpoint\\lib\\site-packages\\langchain_nvidia_ai_endpoints\\_common.py:208: UserWarning: Found deepseek-ai/deepseek-r1 in available_models, but type is unknown and inference may fail.\n",
      "  warnings.warn(\n"
     ]
    },
    {
     "name": "stdout",
     "output_type": "stream",
     "text": [
      "<think>\n",
      "好的，我需要分析用户提供的图片描述，并按照他们的规则生成一个符合要求的答案。首先，用户提到图片的主要元素是一只猫和一个人的手臂，其中猫的毛色是白色和灰色，眼睛是黄色，人穿着深蓝色衣服并戴着手表，背景是室内模糊的。\n",
      "\n",
      "根据规则，属性只能有一个，且优先顺序是产品、人物、动物、文字、风景、建筑、其他。这里最突出的是动物猫，所以属性应该是动物。接下来，猫是否有名字？在提供的文档中没有提到名字，因此需要用品种或特征来命名。猫的毛色是白灰相间，可能属于三花猫，但用户提到“灰白色等于灰色，花色等于多种颜色等于三花”，而猫眼睛是黄色。可能需要确认是否属于三花，但根据描述，可能更准确的是灰白猫。不过用户还提到“猫名代替猫”，如果没有名字，可能需要用颜色特征命名。\n",
      "\n",
      "此外，用户要求最后一行输出格式为“属性_图片内容”，且不超过20字。例如动物_猫名及动作，但如果没有名字，可能需要简化为动物_灰白猫被抱着。\n",
      "\n",
      "检查是否有其他可能的属性，比如人物，但根据优先顺序，动物优先。因此最终答案应该是动物_灰白猫被抱着，或者考虑到花色是三花中的两种颜色，可能叫三花猫。不过用户提到灰白色等于灰色，所以可能还是灰白猫。最终决定使用动物_灰白猫被抱着。\n",
      "</think>\n",
      "\n",
      "动物_灰白猫被抱着\n",
      "动物_灰白猫被抱着\n",
      "Copied: IMG20240809142209.jpg -> 动物_灰白猫被抱着.jpg\n",
      "The image features a cat with orange and white fur, lying on a red fabric surface. The cat has a fork and knife in its mouth, suggesting it might be eating. The background includes a blurred computer screen and a blue object, possibly a cup. The scene is indoors, likely a kitchen or dining area.\n"
     ]
    },
    {
     "name": "stderr",
     "output_type": "stream",
     "text": [
      "C:\\Users\\Manda\\.conda\\envs\\ai_endpoint\\lib\\site-packages\\langchain_nvidia_ai_endpoints\\_common.py:208: UserWarning: Found deepseek-ai/deepseek-r1 in available_models, but type is unknown and inference may fail.\n",
      "  warnings.warn(\n"
     ]
    },
    {
     "name": "stdout",
     "output_type": "stream",
     "text": [
      "<think>\n",
      "好的，我来仔细分析一下用户提供的图片描述，并按照规则生成合适的名称。首先，用户提到图片中的猫有橘色和白色的毛发，根据规则，橘色可以等同于棕色或黄色。不过这里更准确的应该是橘色，所以按照用户的描述，颜色部分应该用橘白。\n",
      "\n",
      "接下来，规则指出，如果动物有名字，就用名字代替品种。但在这段描述中，并没有提到猫的名字，因此需要直接使用“猫”作为属性，而不是名字。然后，猫的动作是躺着，并且嘴里有刀叉，看起来像是在用餐，但用户提到“可能正在进食”，这里可能需要准确判断，但根据图片，猫可能是在假装或用刀叉摆拍，而不是实际进食，所以动作部分可以描述为“叼着刀叉”。\n",
      "\n",
      "另外，背景中有模糊的电脑屏幕和蓝色杯子，但用户要求主要关注图片主角。因此，重点放在猫本身。按照输出格式，属性是动物，所以名称结构应该是“动物_描述内容”，不超过20字。结合颜色和动作，“橘白猫叼着刀叉”符合要求，且字符数在限制内。需要确认是否有更简洁的方式，但当前描述已是最佳选择。最后，确保没有使用名字，而是品种，并正确应用了颜色规则。\n",
      "</think>\n",
      "\n",
      "动物_橘白猫叼刀叉\n",
      "动物_橘白猫叼刀叉\n",
      "Copied: IMG20240828124638.jpg -> 动物_橘白猫叼刀叉.jpg\n",
      "The image features a calico cat with distinctive orange, black, and white fur. The cat is sitting on a floor with a speckled pattern, likely tiles. The focus is on the cat's face, with its eyes looking directly at the camera. The background is blurred, emphasizing the cat as the main subject.\n"
     ]
    },
    {
     "name": "stderr",
     "output_type": "stream",
     "text": [
      "C:\\Users\\Manda\\.conda\\envs\\ai_endpoint\\lib\\site-packages\\langchain_nvidia_ai_endpoints\\_common.py:208: UserWarning: Found deepseek-ai/deepseek-r1 in available_models, but type is unknown and inference may fail.\n",
      "  warnings.warn(\n"
     ]
    },
    {
     "name": "stdout",
     "output_type": "stream",
     "text": [
      "<think>\n",
      "好的，我现在需要分析用户提供的图片描述，并按照给定的规则生成一个符合要求的答案。首先，用户提供的描述是关于一只三花猫坐在有斑点图案的地板上，直视摄像头。背景模糊，突出猫为主角。\n",
      "\n",
      "根据规则，属性只能是产品、人物、动物、文字、风景、建筑或其他中的一个。这里显然属于动物，所以属性是动物。规则中提到如果动物有名字，要用名字代替品种，但描述中没有提到猫的名字，只能使用品种。不过用户特别说明，如果动物、建筑有名字才用名字，否则用品种。所以这里应该用三花猫，而三花是花色的一种，属于多种颜色组合，按照规则，花色等于多种颜色等于三花，所以可以用三花猫。\n",
      "\n",
      "接下来是命名规则。根据输出范例，动物需要以“动物_动物名及动作”的形式出现。这里的动作是坐在地板上，看着摄像头。但用户要求答案不超过二十个字，所以需要简洁。\n",
      "\n",
      "可能的命名是“动物_三花猫坐地注视”，但需要检查是否符合字数限制。可能需要缩短，比如“三花猫坐地注视”已经足够。但根据用户之前的例子，比如“动物_动物名及动作”，这里应用“动物_三花猫坐地注视”是否合适？\n",
      "\n",
      "再检查颜色部分，用户提到棕色等于橘色等于黄色，所以描述中的橙色可能可以简化为橘色。但原描述是orange, black, and white，即橘、黑、白，所以三花猫是准确的，不需要调整颜色名称。\n",
      "\n",
      "最后，确认是否符合所有规则：属性正确，用品种而非名字（因为没有名字），动作包括坐和注视，背景可能不必要提及，因为重点是猫。因此，最终答案应该是“动物_三花猫坐地注视”。\n",
      "</think>\n",
      "\n",
      "动物_三花猫坐地注视\n",
      "动物_三花猫坐地注视\n",
      "Copied: IMG20250211164328.jpg -> 动物_三花猫坐地注视.jpg\n",
      "The image features a Hako floor cleaning machine, predominantly orange and grey with a blue light on the front. It has a black handle and a yellow wheel, positioned on a white background. The machine is designed for cleaning floors and is a man-made object, not a living being or a landscape.\n"
     ]
    },
    {
     "name": "stderr",
     "output_type": "stream",
     "text": [
      "C:\\Users\\Manda\\.conda\\envs\\ai_endpoint\\lib\\site-packages\\langchain_nvidia_ai_endpoints\\_common.py:208: UserWarning: Found deepseek-ai/deepseek-r1 in available_models, but type is unknown and inference may fail.\n",
      "  warnings.warn(\n"
     ]
    },
    {
     "name": "stdout",
     "output_type": "stream",
     "text": [
      "<think>\n",
      "好的，我现在需要分析用户提供的图像描述，并按照给定的规则生成合适的名称。首先，图像主角是一个Hako地板清洁机，颜色主要是橙色、灰色和蓝色，还有黑色手柄和黄色轮子，背景是白色的。根据规则，属性只能出现一个，产品、人物、动物、文字、风景、建筑或其他。这里明显是一个产品，属于“产品”属性。\n",
      "\n",
      "接下来要确认是否有名字。Hako是品牌名，可能作为产品名的一部分。用户提到如果有名字就用名字代替品种，比如“建筑_建筑名”或“动物_动物名”。所以这里应该用产品名Hako来命名。\n",
      "\n",
      "颜色方面，规则中提到棕色等于橘色等于黄色，灰白色等于灰色，花色等于多种颜色等于三花。该机器主色是橙色和灰色，还有蓝色灯光、黑色手柄和黄色轮子。不过根据规则，橙色和黄色可以合并为橘色，但这里要优先考虑主要的颜色。橙色和灰色是主要颜色，所以可以简化为橘色和灰色。\n",
      "\n",
      "最后，名称需要简洁，不超过20字。应按照“产品_产品名及主要颜色”的格式。所以可能的名称是“产品_Hako地板清洁机_橘色灰色”。确认各部分是否符合规则：正确使用产品属性，产品名Hako，颜色符合合并规则，没有其他属性干扰。这样命名既准确又符合用户的要求。\n",
      "</think>\n",
      "\n",
      "产品_Hako地板清洁机_橘色灰色\n",
      "产品_Hako地板清洁机_橘色灰色\n",
      "Copied: PM_B45i_709x591.jpg -> 产品_Hako地板清洁机_橘色灰色.jpg\n"
     ]
    },
    {
     "name": "stderr",
     "output_type": "stream",
     "text": [
      "C:\\Users\\Manda\\.conda\\envs\\ai_endpoint\\lib\\site-packages\\langchain_nvidia_ai_endpoints\\_common.py:208: UserWarning: Found deepseek-ai/deepseek-r1 in available_models, but type is unknown and inference may fail.\n",
      "  warnings.warn(\n"
     ]
    },
    {
     "name": "stdout",
     "output_type": "stream",
     "text": [
      "True\n",
      "已你也有猫啊！真是天选之子！这小家伙每天眨着星星眼等投喂的样子，简直比清晨第一缕阳光还治愈。看它揣手手蹲在键盘上监工，软垫开花似的肉球踩出噼里啪啦的密码，连工作报告都沾上毛绒绒的灵气。深夜加班时暖烘烘的肚皮贴过来，呼噜声比白噪音更抚慰人心，拆家时甩着流星尾巴满屋飞窜，愣是把犯罪现场演成萌宠剧场。这种会走路的毛线团，根本是造物主派来拯救人类的天使哇！\n",
      "f41a0a3e-f1b1-11ef-aa98-34cff69a6766\n",
      "The image features a close-up of a person's arm holding a cat. The cat has a white and grey coat with yellow eyes. The person is wearing a dark blue shirt and a wristwatch. The background is blurred but appears to be an indoor setting with a white surface and a red object. The focus is on the interaction between the person and the cat.\n"
     ]
    },
    {
     "name": "stderr",
     "output_type": "stream",
     "text": [
      "C:\\Users\\Manda\\.conda\\envs\\ai_endpoint\\lib\\site-packages\\langchain_nvidia_ai_endpoints\\_common.py:208: UserWarning: Found deepseek-ai/deepseek-r1 in available_models, but type is unknown and inference may fail.\n",
      "  warnings.warn(\n"
     ]
    },
    {
     "name": "stdout",
     "output_type": "stream",
     "text": [
      "<think>\n",
      "好的，我需要分析用户提供的文档和图片描述来确定图片主角的名字。首先，用户有三只猫：橘猫咪咪，灰猫灰灰，三花猫花花。图片中的猫是白灰色，根据文档，灰灰是灰猫的名字。所以应该用灰灰代替猫的品种。属性是动物，所以最终标签是动物_灰灰。\n",
      "</think>\n",
      "\n",
      "动物_灰灰\n",
      "动物_灰灰\n",
      "Copied: IMG20240809142209.jpg -> 动物_灰灰.jpg\n",
      "The image features a cat with orange and white fur, lying on a red surface. The cat has a fork and knife in its mouth, suggesting it might be eating. The background includes a blurred computer screen and a blue object, possibly a cup. The focus is on the cat and the objects in its mouth.\n"
     ]
    },
    {
     "name": "stderr",
     "output_type": "stream",
     "text": [
      "C:\\Users\\Manda\\.conda\\envs\\ai_endpoint\\lib\\site-packages\\langchain_nvidia_ai_endpoints\\_common.py:208: UserWarning: Found deepseek-ai/deepseek-r1 in available_models, but type is unknown and inference may fail.\n",
      "  warnings.warn(\n"
     ]
    },
    {
     "name": "stdout",
     "output_type": "stream",
     "text": [
      "<think>\n",
      "好的，我现在需要处理用户的查询。首先，用户提供了快问快答的规则，要求根据上下文中的信息为图片命名。用户有三只猫，分别叫咪咪（橘猫）、灰灰（灰猫）和花花（三花猫）。图片中的猫是橘白相间的，可能对应咪咪。\n",
      "\n",
      "接下来，我需要确认猫的颜色是否符合上下文中的描述。用户提到橘色等于黄色，所以橘白猫应该属于橘猫，也就是咪咪。图片中的猫正在用刀叉吃东西，所以动作应该是“进食”。\n",
      "\n",
      "然后，按照规则，属性应为动物，名称用猫的名字，所以应该是“动物_咪咪进食”。需要检查是否超过20个字，这里符合要求。没有涉及其他属性，因此最终答案应该是这个。\n",
      "</think>\n",
      "\n",
      "动物_咪咪进食\n",
      "动物_咪咪进食\n",
      "Copied: IMG20240828124638.jpg -> 动物_咪咪进食.jpg\n",
      "The image features a calico cat with distinctive orange, black, and white fur. The cat is sitting on a floor with a speckled pattern, likely tiles. The focus is on the cat's face, with its eyes looking directly at the camera. The background is out of focus, emphasizing the cat. The image does not contain any other objects or people.\n"
     ]
    },
    {
     "name": "stderr",
     "output_type": "stream",
     "text": [
      "C:\\Users\\Manda\\.conda\\envs\\ai_endpoint\\lib\\site-packages\\langchain_nvidia_ai_endpoints\\_common.py:208: UserWarning: Found deepseek-ai/deepseek-r1 in available_models, but type is unknown and inference may fail.\n",
      "  warnings.warn(\n"
     ]
    },
    {
     "name": "stdout",
     "output_type": "stream",
     "text": [
      "<think>\n",
      "好的，我需要分析用户提供的文档和问题，然后生成符合要求的图片描述。首先，用户有三只猫：咪咪（橘猫）、灰灰（灰猫）和花花（三花猫）。他们周末去了广州塔。\n",
      "\n",
      "根据规则，属性只能是产品、人物、动物、文字、风景、建筑或其他。这里的主角是猫，属于动物。根据用户的命名规则，如果有名字就用名字代替品种，所以三花猫应该被命名为“花花”。\n",
      "\n",
      "用户提供的英文描述中的猫是calico（三花猫），对应文档中的“花花”。所以正确名称应该是“动物_花花”。不需要其他属性，因为主要焦点在猫身上。要确保输出不超过20个字，符合格式要求。最终答案应为“动物_花花”。\n",
      "</think>\n",
      "\n",
      "动物_花花\n",
      "动物_花花\n",
      "Copied: IMG20250211164328.jpg -> 动物_花花.jpg\n",
      "False\n",
      "\n",
      "None\n"
     ]
    }
   ],
   "source": [
    "import gradio as gr\n",
    "import shutil\n",
    "from datetime import datetime, timedelta\n",
    "\n",
    "# 新增的压缩打包函数\n",
    "def package_files(process_id):\n",
    "    img_out_path = f\"./cache/{process_id}/img_out\"\n",
    "    temp_dir = f\"./cache/{process_id}/temp_zip\"\n",
    "    zip_path = f\"./cache/{process_id}/img_out_Path.zip\"\n",
    "    \n",
    "    # 清理旧临时目录\n",
    "    if os.path.exists(temp_dir):\n",
    "        shutil.rmtree(temp_dir)\n",
    "    os.makedirs(temp_dir, exist_ok=True)\n",
    "\n",
    "    # 按前两个字符创建分类目录并复制文件\n",
    "    for filename in os.listdir(img_out_path):\n",
    "        if not filename.lower().endswith(('.png','.jpg','.jpeg','.webp','.tif')):\n",
    "            continue\n",
    "        prefix = filename[:2]\n",
    "        category_dir = os.path.join(temp_dir, prefix)\n",
    "        os.makedirs(category_dir, exist_ok=True)\n",
    "        shutil.copy2(\n",
    "            os.path.join(img_out_path, filename),\n",
    "            os.path.join(category_dir, filename)\n",
    "        )  # 保留元数据复制[[16]]\n",
    "    # 创建压缩包（自动添加.zip扩展名）\n",
    "    shutil.make_archive(zip_path.replace('.zip', ''), 'zip', temp_dir)  # 使用shutil压缩\n",
    "    return zip_path\n",
    "\n",
    "# 修改后的获取输出目录图片列表函数（添加文件名显示）\n",
    "def get_output_images(id):\n",
    "    img_outpath = \"./cache/\"+ id + \"/img_out\"\n",
    "    if os.path.exists(img_outpath):\n",
    "        return [\n",
    "            (os.path.join(img_outpath, f), os.path.basename(f))  # 返回(路径, 文件名)的元组\n",
    "            for f in sorted(os.listdir(img_outpath))\n",
    "            if f.lower().endswith(('.png','.jpg','.jpeg','.webp','.tif'))\n",
    "        ]\n",
    "    return []\n",
    "\n",
    "# 保持原有保存文本函数不变\n",
    "def save_text(text_content,text_cache,process_id):\n",
    "    with open(text_cache + process_id +\".txt\", \"w\", encoding=\"utf-8\") as f:\n",
    "        f.write(text_content+\"0\")\n",
    "    return \"文本已保存到\"\n",
    "\n",
    "# 修改后的保存图片函数（返回格式不需要修改，仅内部调用get_output_images）\n",
    "def save_images(files, text_content, AI_model,process_id_state):\n",
    "    btn.interactive = False\n",
    "    process_id = str(uuid.uuid1())\n",
    "    #process_id = process_id_state\n",
    "    target_dir = \"./cache/\" + process_id + \"/img_in\" \n",
    "    img_out_Path = \"./cache/\" + process_id + \"/img_out\"\n",
    "    img_cache = \"./cache/\" + process_id + \"/img_cache\"\n",
    "    text_cache = img_cache +\"/RAG/\" \n",
    "    #target_dir = \"./img_in\"\n",
    "    #img_outPath = \"./img_out\"\n",
    "\n",
    "    if __name__ == \"__main__\":\n",
    "        cache_directory = \"./cache\"  # 替换为实际路径\n",
    "        clean_old_folders(cache_directory, hours=1)\n",
    "    \n",
    "    \n",
    "    # 清理旧目录（使用shutil.rmtree递归删除）\n",
    "    #for dir_path in [target_dir, img_out_Path, img_cache]:\n",
    "    #    if os.path.exists(dir_path):\n",
    "    #        shutil.rmtree(dir_path)\n",
    "\n",
    "    # 创建新目录\n",
    "    os.makedirs(target_dir, exist_ok=True)\n",
    "    os.makedirs(img_out_Path, exist_ok=True)\n",
    "    os.makedirs(text_cache, exist_ok=True)\n",
    "    \n",
    "    # 复制文件（使用shutil.copy2保留元数据）\n",
    "    for file in files:\n",
    "        target_path = os.path.join(target_dir, os.path.basename(file.name))\n",
    "        shutil.copy2(file.name, target_path)\n",
    "    \n",
    "    # 保存文本并执行处理逻辑\n",
    "    save_text(text_content,text_cache,process_id)\n",
    "    changename(target_dir, img_out_Path,img_cache,AI_model)  # 处理图片的函数\n",
    "    #ifcatdog(img_out_Path)\n",
    "    \n",
    "    #Hidden_surprise\n",
    "    speech_text,HiddenSurprise = contains_cat_or_dog(img_out_Path,AI_model)\n",
    "    #print(HiddenSurprise)\n",
    "    print(speech_text)\n",
    "    audio_path=text_to_speech(speech_text,img_cache)\n",
    "    print(audio_path)\n",
    "    return (\n",
    "        f\"已上传 {len(files)} 张图片，文本已保存！{AI_model}正在为您服务！图片及压缩包仅临时储存1小时，请尽快下载！\",  # 状态消息\n",
    "        get_output_images(process_id),                          # 画廊内容\n",
    "        gr.DownloadButton(\"下载压缩包\",interactive=True),\n",
    "        gr.File(visible=True),\n",
    "        process_id,                                              # 传递ID到state\n",
    "        audio_path\n",
    "    )\n",
    "\n",
    "# 保持原有预览函数不变\n",
    "def preview_files(files):\n",
    "    return [file.name for file in files] if files else []\n",
    "\n",
    "# 界面构建（无需修改布局）\n",
    "with gr.Blocks(title=\"🎉图片自动重命名\") as demo:\n",
    "    process_id_state = gr.State()  # 用于存储当前会话ID\n",
    "    gr.Markdown(\"## 图片自动重命名\")  # 主标题\n",
    "    gr.Markdown(\"**功能描述**: 将图片上传，系统将根据图片内容为您重命名图片✨\")\n",
    "    \n",
    "    # 新增的下拉框组件\n",
    "    drop_down = gr.Dropdown(\n",
    "        choices=[\"deepseek-ai/deepseek-r1\", \"mediatek/breeze-7b-instruct\",\"qwen/qwen2.5-7b-instruct\",\"meta/llama3-70b-instruct\"],\n",
    "        label=\"请选择你想使用的大模型，deepseek中文效果最好速度最慢，mediatek效果其次，qwen2.5白给，英文选meta\",\n",
    "        value=\"deepseek-ai/deepseek-r1\",  # 默认选中R1\n",
    "        interactive=True\n",
    "    )\n",
    "    #print(drop_down)\n",
    "    with gr.Row():\n",
    "        img_in = gr.File(file_count=\"multiple\", file_types=[\"image\"], label=\"上传多张图片\")\n",
    "        gallery = gr.Gallery(label=\"图片预览\", columns=3, height=\"auto\", object_fit=\"cover\")\n",
    "        text_input = gr.Textbox(label=\"输入对图片的大致描述，比如猫叫咪咪，塔叫广州塔\")\n",
    "\n",
    "\n",
    "\n",
    "    \n",
    "    btn = gr.Button(\"上传\", variant=\"primary\")\n",
    "    output = gr.Textbox(label=\"状态输出\")\n",
    "    gr.Markdown(\"**下载安装包**: 点击下载压缩包后可以下载分类打包好的文件压缩包\")\n",
    "    # 下载按钮\n",
    "    download_btn = gr.DownloadButton(\"下载压缩包\", interactive=False)\n",
    "    download_file = gr.File(visible=False)\n",
    "    #语音组件\n",
    "    #HiddenSurprise = gr.Audio(elem_id=\"hide\",visible=False)\n",
    "    process_id = str(uuid.uuid1())\n",
    "    audio_file = \"./Hidden_surprise.mp3\"\n",
    "    audio_player = gr.Audio(label=\"语音播报\", type=\"filepath\", visible=True,  value = audio_file )\n",
    "        \n",
    "    img_in.change(preview_files, inputs=img_in, outputs=gallery)\n",
    "    \n",
    "    btn.click(\n",
    "        fn=save_images,\n",
    "        inputs=[img_in, text_input, drop_down,process_id_state],\n",
    "        outputs=[output, gallery, download_btn,download_file, process_id_state]\n",
    "    )\n",
    "\n",
    "        # 添加下载按钮点击事件inputs=process_id_state,\n",
    "    download_btn.click(\n",
    "        fn=lambda pid: package_files(pid) if pid else None,\n",
    "        inputs=process_id_state,\n",
    "        outputs=download_file\n",
    "    )\n",
    "    \n",
    "demo.launch(\n",
    "    debug=True,\n",
    "    share=True,\n",
    "    show_api=False,\n",
    "    server_port=8808,\n",
    "    server_name=\"0.0.0.0\"\n",
    ")\n"
   ]
  },
  {
   "cell_type": "code",
   "execution_count": null,
   "id": "86497882-642b-4672-b261-98d7e6a1aa65",
   "metadata": {},
   "outputs": [],
   "source": []
  },
  {
   "cell_type": "code",
   "execution_count": null,
   "id": "8a8b8d70-878e-447b-91a4-c36fed2aaf9e",
   "metadata": {},
   "outputs": [],
   "source": []
  },
  {
   "cell_type": "code",
   "execution_count": null,
   "id": "0af7cdf2-246d-4bc1-aaa8-117a3056638a",
   "metadata": {},
   "outputs": [],
   "source": []
  }
 ],
 "metadata": {
  "kernelspec": {
   "display_name": "Python 3 (ipykernel)",
   "language": "python",
   "name": "python3"
  },
  "language_info": {
   "codemirror_mode": {
    "name": "ipython",
    "version": 3
   },
   "file_extension": ".py",
   "mimetype": "text/x-python",
   "name": "python",
   "nbconvert_exporter": "python",
   "pygments_lexer": "ipython3",
   "version": "3.8.19"
  }
 },
 "nbformat": 4,
 "nbformat_minor": 5
}
